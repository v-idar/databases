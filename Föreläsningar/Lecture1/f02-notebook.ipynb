{
 "cells": [
  {
   "cell_type": "markdown",
   "metadata": {},
   "source": [
    "EDAF75 - notebook for lecture 2\n",
    "===============================\n",
    "\n",
    "**Author:** Christian Söderberg\n",
    "\n"
   ]
  },
  {
   "cell_type": "markdown",
   "metadata": {},
   "source": [
    "## Week 1: Introduction, relational databases, and SQL, continued&#x2026;\n",
    "\n"
   ]
  },
  {
   "cell_type": "markdown",
   "metadata": {},
   "source": [
    "In order to run SQL in this notebook, we need to load the SQL extension:\n",
    "\n"
   ]
  },
  {
   "cell_type": "code",
   "execution_count": 1,
   "metadata": {},
   "outputs": [],
   "source": [
    "%load_ext sql"
   ]
  },
  {
   "cell_type": "markdown",
   "metadata": {},
   "source": [
    "&#x2026; and then we want some database to work on (I've put all the databases used for this lecture in a file called `lect01.sqlite`):\n",
    "\n"
   ]
  },
  {
   "cell_type": "code",
   "execution_count": 2,
   "metadata": {},
   "outputs": [],
   "source": [
    "%sql sqlite:///lect01.sqlite"
   ]
  },
  {
   "cell_type": "markdown",
   "metadata": {},
   "source": [
    "Now we're good to go, we just have to prefix our SQL queries with `%sql` (one line of SQL) or `%%sql` (several lines of SQL, this is the form we will use in most cases).\n",
    "\n"
   ]
  },
  {
   "cell_type": "markdown",
   "metadata": {},
   "source": [
    "### `GROUP BY` and `HAVING`\n",
    "\n"
   ]
  },
  {
   "cell_type": "code",
   "execution_count": null,
   "metadata": {},
   "outputs": [],
   "source": []
  },
  {
   "cell_type": "markdown",
   "metadata": {},
   "source": [
    "We talked about `GROUP BY` and `HAVING` last time, but I skipped the following section.\n",
    "\n"
   ]
  },
  {
   "cell_type": "markdown",
   "metadata": {},
   "source": [
    "#### Using `CASE WHEN`\n",
    "\n"
   ]
  },
  {
   "cell_type": "markdown",
   "metadata": {},
   "source": [
    "When we group values, we can make use of the `CASE WHEN` construct (see the penultimate track in the diagram below):\n",
    "\n",
    "<center>\n",
    "<img src=\"./select-expr.svg\">\n",
    "</center>\n",
    "\n",
    "For instance, we can use it to categorize the era for each of the physics laureates having a name beginning with 'A':\n",
    "\n"
   ]
  },
  {
   "cell_type": "code",
   "execution_count": 1,
   "metadata": {},
   "outputs": [],
   "source": [
    "%%sql\n",
    "SELECT   year, name,\n",
    "         CASE\n",
    "             WHEN year < 1970 THEN 'ancient time'\n",
    "             WHEN year <= 2000 THEN 'a long time ago'\n",
    "             ELSE 'quite recently'\n",
    "         END AS era\n",
    "FROM     nobel_prizes\n",
    "WHERE    category = 'physics' AND name LIKE 'A%'"
   ]
  },
  {
   "cell_type": "markdown",
   "metadata": {},
   "source": [
    "**Problem:** Use the `CASE WHEN` construct and `GROUP BY` to count the number of physics laureates beginning with 'A' in each era. Since we've now seen CTEs, we can try using one here.\n",
    "\n"
   ]
  },
  {
   "cell_type": "code",
   "execution_count": 1,
   "metadata": {},
   "outputs": [],
   "source": [
    "%%sql"
   ]
  },
  {
   "cell_type": "markdown",
   "metadata": {},
   "source": [
    "### A short intro to window functions\n",
    "\n"
   ]
  },
  {
   "cell_type": "markdown",
   "metadata": {},
   "source": [
    "As we saw above, we can treat partitions of our rows as 'groups', by using `GROUP BY`.\n",
    "\n",
    "We also saw than when we use an aggregate function on a group, we collapse whole groups into one row in the output (and when we apply it to a table without groups, the whole table collapses) &#x2013; but sometimes we want to apply (aggregate) functions within a group of values, and keep each row in the output.\n",
    "\n",
    "Above we listed all laureates in 2013, now we want to add one column to the output: for each laureate, we want to show how many laureates shared the prize in her or his category.\n",
    "\n",
    "If we use `GROUP BY` and the aggregate function `count()` on the categories, we would only get one row per category, and using `count()` without grouping would collapse the whole result into just one row:\n",
    "\n"
   ]
  },
  {
   "cell_type": "code",
   "execution_count": 1,
   "metadata": {},
   "outputs": [],
   "source": [
    "%%sql\n",
    "SELECT    year, category, name, count() AS count      -- oh no!\n",
    "FROM      nobel_prizes\n",
    "WHERE     year = 2013\n",
    "ORDER BY  category"
   ]
  },
  {
   "cell_type": "markdown",
   "metadata": {},
   "source": [
    "Fortunately, SQL has quite recently introduced a way to apply functions only over 'partitions' of our tables, and keep all rows in the output &#x2013; using the reserved word `OVER` we can introduce a *window* of our rows, and apply the function only over this 'window':\n",
    "\n"
   ]
  },
  {
   "cell_type": "code",
   "execution_count": 1,
   "metadata": {},
   "outputs": [],
   "source": [
    "%%sql\n",
    "SELECT    year,\n",
    "          category,\n",
    "          name,\n",
    "          count() OVER (PARTITION by category) AS count\n",
    "FROM      nobel_prizes\n",
    "WHERE     year = 2013\n",
    "ORDER BY  category"
   ]
  },
  {
   "cell_type": "markdown",
   "metadata": {},
   "source": [
    "We can also give our windows names, using an alias:\n",
    "\n"
   ]
  },
  {
   "cell_type": "code",
   "execution_count": 1,
   "metadata": {},
   "outputs": [],
   "source": [
    "%%sql\n",
    "SELECT    year,\n",
    "          category,\n",
    "          name,\n",
    "          count() OVER categories AS count\n",
    "FROM      nobel_prizes\n",
    "WHERE     year = 2013\n",
    "WINDOW    categories AS (PARTITION by category)\n",
    "ORDER BY  category"
   ]
  },
  {
   "cell_type": "markdown",
   "metadata": {},
   "source": [
    "The aliased window definitions must come after any `WHERE` and `HAVING`, and before any `ORDER BY`.\n",
    "\n",
    "So, if we use the reserved word `OVER` after a function, the function will be applied according to a 'window' (there is more to it than this, but this will suffice for now).\n",
    "In the window we can:\n",
    "\n",
    "-   define a partition, using `PARTITION BY`,\n",
    "\n",
    "-   define an order, using `ORDER BY`, and\n",
    "\n",
    "-   define a range, which we can use to define groups of rows relative to each other (but we won't look at ranges in the course).\n",
    "\n",
    "The function will be applied to each partition, in the same way we applied aggregate functions on groups above, but now we won't collapse the partitions.\n",
    "Observe that the partitioning and ordering are based only on the selection we make (i.e., only those rows which are chosen in our `WHERE` clause).\n",
    "\n",
    "We can use our regular aggregate functions as window functions, but there are also a couple of dedicated window functions, such as (there are more, but we won't use them in the course):\n",
    "\n",
    "-   `rank()`: ranks rows by the order specified in the window, ties can occur,\n",
    "\n",
    "-   `row_number()`: as `rank()`, but now we avoid ties, and rank by row number in the output, and\n",
    "\n",
    "-   `percent_rank()`: gives a value between 0.0 and 1.0 (so it's a bit of a misnomer), giving the row's relative rank within its partition.\n",
    "\n",
    "You can find more [here](https://sqlite.org/windowfunctions.html).\n",
    "\n",
    "Window functions can be very powerful, but we'll not delve too deeply into them in the course &#x2013; I want you to be aware of them, though!\n",
    "\n",
    "**Problem:** Add one column which 'ranks' the laureates of 2013 in the table above according to the lengths of their names, within the categories &#x2013; shorter names should come before longer names.\n",
    "\n"
   ]
  },
  {
   "cell_type": "code",
   "execution_count": 1,
   "metadata": {},
   "outputs": [],
   "source": [
    "%%sql"
   ]
  },
  {
   "cell_type": "markdown",
   "metadata": {},
   "source": [
    "**Exercise:** For each laureate with the initial A, list their category, year, name, and 'freshness' within that category, i.e., the most recent laureate in a category is ranked 1, the second most recent laureate is ranked 2, etc. The ranks should be confined to laureates with the initial A.\n",
    "\n"
   ]
  },
  {
   "cell_type": "code",
   "execution_count": 1,
   "metadata": {},
   "outputs": [],
   "source": [
    "%%sql"
   ]
  },
  {
   "cell_type": "markdown",
   "metadata": {},
   "source": [
    "### Subqueries, Views and Common Table Expressions (CTEs)\n",
    "\n"
   ]
  },
  {
   "cell_type": "markdown",
   "metadata": {},
   "source": [
    "We talked about subqueries the last time, here's just one 'refresher':\n",
    "\n",
    "**Problem:** Show in which years there were prices in some category, but not in medicine.\n",
    "\n"
   ]
  },
  {
   "cell_type": "code",
   "execution_count": 1,
   "metadata": {},
   "outputs": [],
   "source": [
    "%%sql"
   ]
  },
  {
   "cell_type": "markdown",
   "metadata": {},
   "source": [
    "#### Correlated subqueries\n",
    "\n"
   ]
  },
  {
   "cell_type": "markdown",
   "metadata": {},
   "source": [
    "Sometimes it's useful to have a subquery which is somehow dependent on the surrounding query.\n",
    "As an example, solve the following problem:\n",
    "\n",
    "**Problem:** List the names of all laureates who has the longest name of all laureates in their category (in case of ties, all should be listed) &#x2013; order by category.\n",
    "\n",
    "Here we can use a subquery which is 'run' for each row in our main query:\n",
    "\n"
   ]
  },
  {
   "cell_type": "code",
   "execution_count": 1,
   "metadata": {},
   "outputs": [],
   "source": [
    "%%sql\n",
    "SELECT  category, year, name\n",
    "FROM    nobel_prizes AS outer_nobel_prizes\n",
    "WHERE   length(name) = (\n",
    "            SELECT max(length(name))\n",
    "            FROM   nobel_prizes\n",
    "            WHERE  category = outer_nobel_prizes.category)\n",
    "ORDER BY category"
   ]
  },
  {
   "cell_type": "markdown",
   "metadata": {},
   "source": [
    "This is called a *correlated subquery* (since we refer to the enclosing query inside it).\n",
    "We use an alias to distinguish between the `nobel_prize` table in the outer query and the `nobel_prize` table in the subquery (it's the same table, but we 'iterate' through it separately).\n",
    "\n",
    "BTW, we could have skipped the `AS` in\n",
    "\n",
    "    ...\n",
    "    FROM    nobel AS outer_nobel\n",
    "    ...\n",
    "\n",
    "and just written:\n",
    "\n",
    "    ...\n",
    "    FROM    nobel outer_nobel\n",
    "    ...\n",
    "\n",
    "The general opinion is that we should use `AS`, as it makes it more obvious that we're defining an alias.\n",
    "\n"
   ]
  },
  {
   "cell_type": "markdown",
   "metadata": {},
   "source": [
    "### When one table is not enough\n",
    "\n"
   ]
  },
  {
   "cell_type": "markdown",
   "metadata": {},
   "source": [
    "In the preparation notes for this lecture, you were asked to think through the problem below.\n",
    "\n",
    "---\n",
    "\n",
    "**Problem:** We've been asked to write code to handle students and their college applications. Each student has a name, a student id (stil), and an average grade. The students apply for various majors at colleges, where each college has a name, is situated in a given state, and has a given enrollment. Each application is for a specific major at a specific college, and it can be accepted, rejected, or pending.\n",
    "\n",
    "1.  What classes and/or data structures would you use to keep track of this data in Python or Java?\n",
    "2.  How do you list all applications for a given student?\n",
    "3.  How do you list all applications for a given major at a given college?\n",
    "4.  Approximately how many lines of Python/Java code do you need to list the three programs (major@college) with the highest grade average for the 'last' accepted student (assuming the students are accepted in order of decreasing grade averages)?\n",
    "5.  How would you persist your data, so it doesn't get lost if we have to restart the program?\n",
    "6.  Can you come up with a way to let several programs access the data simultaneously?\n",
    "7.  If you solve the previous problem, and want to allow several programs update the data simultaneously, how do you make sure the data isn't corrupted?\n",
    "\n",
    "---\n",
    "\n",
    "If we wanted to keep all the information above in one table, we'd need the following columns (below I use some column names which are in a style I don't normally use, but I think it could be good for you to be exposed to different styles):\n",
    "\n",
    "-   student id (`s_id`)\n",
    "-   student name (`s_name`)\n",
    "-   average grade (`gpa`)\n",
    "-   college (`c_name`)\n",
    "-   state (`state`)\n",
    "-   enrollment (`enrollment`)\n",
    "-   major (`major`)\n",
    "-   decision (`decision`)\n",
    "\n",
    "Here is a (very small) example:\n",
    "\n",
    "<div>\n",
    "<table rules=\"all\">\n",
    "<tr>\n",
    "  <th><code>s&lowbar;id</code></th>\n",
    "  <th><code>s&lowbar;name</code></th>\n",
    "  <th><code>gpa</code></th>\n",
    "  <th><code>c&lowbar;name</code></th>\n",
    "  <th><code>state</code></th>\n",
    "  <th><code>enrollment</code></th>\n",
    "  <th><code>major</code></th>\n",
    "  <th><code>decision</code></th>\n",
    "</tr>\n",
    "<TR>\n",
    "  <TD>123</TD><TD>Amy</TD><TD>3.9</TD>\n",
    "  <TD>Stanford</TD><TD>CA</TD><TD>15000</TD>\n",
    "  <TD>CS</TD><TD>Y</TD>\n",
    "</TR>\n",
    "<TR>\n",
    "  <TD>123</TD><TD>Amy</TD><TD>3.9</TD>\n",
    "  <TD>Stanford</TD><TD>CA</TD><TD>15000</TD>\n",
    "  <TD>EE</TD><TD>N</TD>\n",
    "</TR>\n",
    "<TR>\n",
    "  <TD>123</TD><TD>Amy</TD><TD>3.9</TD>\n",
    "  <TD>Berkeley</TD><TD>CA</TD><TD>36000</TD>\n",
    "  <TD>CS</TD><TD>Y</TD>\n",
    "</TR>\n",
    "<TR>\n",
    "  <TD>123</TD><TD>Amy</TD><TD>3.9</TD>\n",
    "  <TD>Cornell</TD><TD>NY</TD><TD>21000</TD>\n",
    "  <TD>EE</TD><TD>Y</TD>\n",
    "</TR>\n",
    "<TR>\n",
    "  <TD>234</TD><TD>Bob</TD><TD>3.6</TD>\n",
    "  <TD>Berkeley</TD><TD>CA</TD><TD>36000</TD>\n",
    "  <TD>biology</TD><TD>N</TD>\n",
    "</TR>\n",
    "<TR>\n",
    "  <TD>345</TD><TD>Craig</TD><TD>3.5</TD>\n",
    "  <TD>MIT</TD><TD>MA</TD><TD>10000</TD>\n",
    "  <TD>bioengineering</TD><TD>Y</TD>\n",
    "</TR>\n",
    "<TR>\n",
    "  <TD>345</TD><TD>Craig</TD><TD>3.5</TD>\n",
    "  <TD>Cornell</TD><TD>NY</TD><TD>21000</TD>\n",
    "  <TD>bioengineering</TD><TD>N</TD>\n",
    "</TR>\n",
    "<TR>\n",
    "  <TD>345</TD><TD>Craig</TD><TD>3.5</TD>\n",
    "  <TD>Cornell</TD><TD>NY</TD><TD>21000</TD>\n",
    "  <TD>CS</TD><TD>Y</TD>\n",
    "</TR>\n",
    "<TR>\n",
    "  <TD>345</TD><TD>Craig</TD><TD>3.5</TD>\n",
    "  <TD>Cornell</TD><TD>NY</TD><TD>21000</TD>\n",
    "  <TD>EE</TD><TD>N</TD>\n",
    "</TR>\n",
    "<TR>\n",
    "  <TD>678</TD><TD>Fay</TD><TD>3.8</TD>\n",
    "  <TD>Stanford</TD><TD>CA</TD><TD>15000</TD>\n",
    "  <TD>history</TD><TD>Y</TD>\n",
    "</TR>\n",
    "<TR>\n",
    "  <TD>987</TD><TD>Helen</TD><TD>3.7</TD>\n",
    "  <TD>Stanford</TD><TD>CA</TD><TD>15000</TD>\n",
    "  <TD>CS</TD><TD>Y</TD>\n",
    "</TR>\n",
    "<TR>\n",
    "  <TD>987</TD><TD>Helen</TD><TD>3.7</TD>\n",
    "  <TD>Berkeley</TD><TD>CA</TD><TD>36000</TD>\n",
    "  <TD>CS</TD><TD>Y</TD>\n",
    "</TR>\n",
    "<TR>\n",
    "  <TD>876</TD><TD>Irene</TD><TD>3.9</TD>\n",
    "  <TD>Stanford</TD><TD>CA</TD><TD>15000</TD>\n",
    "  <TD>CS</TD><TD>N</TD>\n",
    "</TR>\n",
    "<TR>\n",
    "  <TD>876</TD><TD>Irene</TD><TD>3.9</TD>\n",
    "  <TD>MIT</TD><TD>MA</TD><TD>10000</TD>\n",
    "  <TD>biology</TD><TD>Y</TD>\n",
    "</TR>\n",
    "<TR>\n",
    "  <TD>876</TD><TD>Irene</TD><TD>3.9</TD>\n",
    "  <TD>MIT</TD><TD>MA</TD><TD>10000</TD>\n",
    "  <TD>marine biology</TD><TD>N</TD>\n",
    "</TR>\n",
    "<TR>\n",
    "  <TD>765</TD><TD>Jay</TD><TD>2.9</TD>\n",
    "  <TD>Stanford</TD><TD>CA</TD><TD>15000</TD>\n",
    "  <TD>history</TD><TD>Y</TD>\n",
    "</TR>\n",
    "<TR>\n",
    "  <TD>765</TD><TD>Jay</TD><TD>2.9</TD>\n",
    "  <TD>Cornell</TD><TD>NY</TD><TD>21000</TD>\n",
    "  <TD>history</TD><TD>N</TD>\n",
    "</TR>\n",
    "<TR>\n",
    "  <TD>765</TD><TD>Jay</TD><TD>2.9</TD>\n",
    "  <TD>Cornell</TD><TD>NY</TD><TD>21000</TD>\n",
    "  <TD>psychology</TD><TD>Y</TD>\n",
    "</TR>\n",
    "<TR>\n",
    "  <TD>543</TD><TD>Craig</TD><TD>3.4</TD>\n",
    "  <TD>MIT</TD><TD>MA</TD><TD>10000</TD>\n",
    "  <TD>CS</TD><TD>N</TD>\n",
    "</TR>\n",
    "</table></div>\n",
    "\n",
    "but this table comes with some problems:\n",
    "\n",
    "-   some of the information is repeated in many places (which is wasteful and error prone)\n",
    "\n",
    "-   if we want to change Amy's gpa, we'd have to change it in several places (once per application she's made)\n",
    "\n",
    "-   if a student withdraws her last application, we'd loose all information about that student (this has actually happened here already, as you'll see below)\n",
    "\n",
    "In week 4 we'll discuss the theory behind these problems (functional dependencies), and see a technique we can use to find well behaved tables (normalization), but I hope that you intuitively can see that everything would be easier if we had the following three tables instead of the big table above:\n",
    "\n",
    "-   one table, `students`, with information about the students (id, name and gpa)\n",
    "\n",
    "<div>\n",
    "<table rules=\"all\">\n",
    "<tr>\n",
    "  <th><code>s&lowbar;id</code></th>\n",
    "  <th><code>s&lowbar;name</code></th>\n",
    "  <th><code>gpa</code></th>\n",
    "</tr>\n",
    "\n",
    "<TR><TD>123</TD>\n",
    "<TD>Amy</TD>\n",
    "<TD>3.9</TD>\n",
    "</TR>\n",
    "<TR><TD>234</TD>\n",
    "<TD>Bob</TD>\n",
    "<TD>3.6</TD>\n",
    "</TR>\n",
    "<TR><TD>345</TD>\n",
    "<TD>Craig</TD>\n",
    "<TD>3.5</TD>\n",
    "</TR>\n",
    "<TR><TD>456</TD>\n",
    "<TD>Doris</TD>\n",
    "<TD>3.9</TD>\n",
    "</TR>\n",
    "<TR><TD>543</TD>\n",
    "<TD>Craig</TD>\n",
    "<TD>3.4</TD>\n",
    "</TR>\n",
    "<TR><TD>567</TD>\n",
    "<TD>Edward</TD>\n",
    "<TD>2.9</TD>\n",
    "</TR>\n",
    "<TR><TD>654</TD>\n",
    "<TD>Amy</TD>\n",
    "<TD>3.9</TD>\n",
    "</TR>\n",
    "<TR><TD>678</TD>\n",
    "<TD>Fay</TD>\n",
    "<TD>3.8</TD>\n",
    "</TR>\n",
    "<TR><TD>765</TD>\n",
    "<TD>Jay</TD>\n",
    "<TD>2.9</TD>\n",
    "</TR>\n",
    "<TR><TD>789</TD>\n",
    "<TD>Gary</TD>\n",
    "<TD>3.4</TD>\n",
    "</TR>\n",
    "<TR><TD>876</TD>\n",
    "<TD>Irene</TD>\n",
    "<TD>3.9</TD>\n",
    "</TR>\n",
    "<TR><TD>987</TD>\n",
    "<TD>Helen</TD>\n",
    "<TD>3.7</TD>\n",
    "</TR>\n",
    "</table></div>\n",
    "\n",
    "Here we have some students which weren't seen in the original table above, since they did not have any applications.\n",
    "\n"
   ]
  },
  {
   "cell_type": "code",
   "execution_count": 1,
   "metadata": {},
   "outputs": [],
   "source": [
    "%%sql"
   ]
  },
  {
   "cell_type": "markdown",
   "metadata": {},
   "source": [
    "-   one table, `colleges`, with college information (name and state)\n",
    "\n",
    "<div>\n",
    "<table rules=\"all\">\n",
    "<tr>\n",
    "  <th><code>c&lowbar;name</code></th>\n",
    "  <th><code>state</code></th>\n",
    "  <th><code>enrollment</code></th>\n",
    "</tr>\n",
    "<TR><TD>Stanford</TD>\n",
    "<TD>CA</TD>\n",
    "<TD>15000</TD>\n",
    "</TR>\n",
    "<TR><TD>Berkeley</TD>\n",
    "<TD>CA</TD>\n",
    "<TD>36000</TD>\n",
    "</TR>\n",
    "<TR><TD>MIT</TD>\n",
    "<TD>MA</TD>\n",
    "<TD>10000</TD>\n",
    "</TR>\n",
    "<TR><TD>Cornell</TD>\n",
    "<TD>NY</TD>\n",
    "<TD>21000</TD>\n",
    "</TR>\n",
    "</table></div>\n",
    "\n"
   ]
  },
  {
   "cell_type": "code",
   "execution_count": 1,
   "metadata": {},
   "outputs": [],
   "source": [
    "%%sql"
   ]
  },
  {
   "cell_type": "markdown",
   "metadata": {},
   "source": [
    "-   one table, `applications`, with applications (student id, college name, major, and decision)\n",
    "\n",
    "<div>\n",
    "<table rules=\"all\">\n",
    "<tr>\n",
    "  <th><code>s&lowbar;id</code></th>\n",
    "  <th><code>c&lowbar;name</code></th>\n",
    "  <th><code>major</code></th>\n",
    "  <th><code>decision</code></th>\n",
    "</tr>\n",
    "<TR><TD>123</TD>\n",
    "<TD>Stanford</TD>\n",
    "<TD>CS</TD>\n",
    "<TD>Y</TD>\n",
    "</TR>\n",
    "<TR><TD>123</TD>\n",
    "<TD>Stanford</TD>\n",
    "<TD>EE</TD>\n",
    "<TD>N</TD>\n",
    "</TR>\n",
    "<TR><TD>123</TD>\n",
    "<TD>Berkeley</TD>\n",
    "<TD>CS</TD>\n",
    "<TD>Y</TD>\n",
    "</TR>\n",
    "<TR><TD>123</TD>\n",
    "<TD>Cornell</TD>\n",
    "<TD>EE</TD>\n",
    "<TD>Y</TD>\n",
    "</TR>\n",
    "<TR><TD>234</TD>\n",
    "<TD>Berkeley</TD>\n",
    "<TD>biology</TD>\n",
    "<TD>N</TD>\n",
    "</TR>\n",
    "<TR><TD>345</TD>\n",
    "<TD>MIT</TD>\n",
    "<TD>bioengineering</TD>\n",
    "<TD>Y</TD>\n",
    "</TR>\n",
    "<TR><TD>345</TD>\n",
    "<TD>Cornell</TD>\n",
    "<TD>bioengineering</TD>\n",
    "<TD>N</TD>\n",
    "</TR>\n",
    "<TR><TD>345</TD>\n",
    "<TD>Cornell</TD>\n",
    "<TD>CS</TD>\n",
    "<TD>Y</TD>\n",
    "</TR>\n",
    "<TR><TD>345</TD>\n",
    "<TD>Cornell</TD>\n",
    "<TD>EE</TD>\n",
    "<TD>N</TD>\n",
    "</TR>\n",
    "<TR><TD>678</TD>\n",
    "<TD>Stanford</TD>\n",
    "<TD>history</TD>\n",
    "<TD>Y</TD>\n",
    "</TR>\n",
    "<TR><TD>987</TD>\n",
    "<TD>Stanford</TD>\n",
    "<TD>CS</TD>\n",
    "<TD>Y</TD>\n",
    "</TR>\n",
    "<TR><TD>987</TD>\n",
    "<TD>Berkeley</TD>\n",
    "<TD>CS</TD>\n",
    "<TD>Y</TD>\n",
    "</TR>\n",
    "<TR><TD>876</TD>\n",
    "<TD>Stanford</TD>\n",
    "<TD>CS</TD>\n",
    "<TD>N</TD>\n",
    "</TR>\n",
    "<TR><TD>876</TD>\n",
    "<TD>MIT</TD>\n",
    "<TD>biology</TD>\n",
    "<TD>Y</TD>\n",
    "</TR>\n",
    "<TR><TD>876</TD>\n",
    "<TD>MIT</TD>\n",
    "<TD>marine biology</TD>\n",
    "<TD>N</TD>\n",
    "</TR>\n",
    "<TR><TD>765</TD>\n",
    "<TD>Stanford</TD>\n",
    "<TD>history</TD>\n",
    "<TD>Y</TD>\n",
    "</TR>\n",
    "<TR><TD>765</TD>\n",
    "<TD>Cornell</TD>\n",
    "<TD>history</TD>\n",
    "<TD>N</TD>\n",
    "</TR>\n",
    "<TR><TD>765</TD>\n",
    "<TD>Cornell</TD>\n",
    "<TD>psychology</TD>\n",
    "<TD>Y</TD>\n",
    "</TR>\n",
    "<TR><TD>543</TD>\n",
    "<TD>MIT</TD>\n",
    "<TD>CS</TD>\n",
    "<TD>N</TD>\n",
    "</TR>\n",
    "</table></div>\n",
    "\n"
   ]
  },
  {
   "cell_type": "code",
   "execution_count": 1,
   "metadata": {},
   "outputs": [],
   "source": [
    "%%sql"
   ]
  },
  {
   "cell_type": "markdown",
   "metadata": {},
   "source": [
    "Nothing in these table is *redundant*, so if we use these tables, the issues we saw above goes away (we'll talk more about this in week 4).\n",
    "But the benefits come with a cost, we now need a way to combine information from several tables at once.\n",
    "\n",
    "Let's say we want to show the names and gpa of all students who has applied for CS at Stanford &#x2013; none of our three tables above contain all information we need, but if we start by looking in the applications table, we can get &#x2026;\n",
    "\n"
   ]
  },
  {
   "cell_type": "code",
   "execution_count": 1,
   "metadata": {},
   "outputs": [],
   "source": [
    "%%sql\n",
    "SELECT    s_id\n",
    "FROM      applications\n",
    "WHERE     c_name = 'Stanford' AND major = 'CS'"
   ]
  },
  {
   "cell_type": "markdown",
   "metadata": {},
   "source": [
    "The best we can get here is the id of all relevant students, but given the id we can look in the `students` table for the name and gpa.\n",
    "\n",
    "In regular programming languages, such as Python or Java, we could do that with functions such as `find_name(s_id)` and `find_gpa(s_id)`:\n",
    "\n"
   ]
  },
  {
   "cell_type": "code",
   "execution_count": 1,
   "metadata": {},
   "outputs": [],
   "source": [
    "%%sql\n",
    "SELECT    find_name(s_id), find_gpa(s_id)     -- not in SQL!\n",
    "FROM      applications\n",
    "WHERE     c_name = 'Stanford' AND major = 'CS'"
   ]
  },
  {
   "cell_type": "markdown",
   "metadata": {},
   "source": [
    "But SQL is no regular language, it's based on relational algebra, and there we have another, really cool way of solving this problem: [*joins*](https://en.wikipedia.org/wiki/Join_(SQL)).\n",
    "\n"
   ]
  },
  {
   "cell_type": "markdown",
   "metadata": {},
   "source": [
    "#### Inner joins\n",
    "\n"
   ]
  },
  {
   "cell_type": "markdown",
   "metadata": {},
   "source": [
    "We solve the problem above by combining (*joining*) the `applications` table with the `students` table. There are several kinds of joins in SQL (and relational algebra), but the most straightforward kind is what's called an [*inner join*](https://en.wikipedia.org/wiki/Join_(SQL)#Inner_join).\n",
    "\n",
    "The inner join of two tables is a new table, where rows from each table are joined together if the attributes of the rows matches a *join predicate* &#x2013; in our case we want to add student data to the application data where the student id in the applications table matches the student id in the students table.\n",
    "\n",
    "This can be expressed as (see the [docs](https://sqlite.org/lang_select.html)):\n",
    "\n"
   ]
  },
  {
   "cell_type": "code",
   "execution_count": 1,
   "metadata": {},
   "outputs": [
    {
     "name": "stderr",
     "output_type": "stream",
     "text": [
      "UsageError: Cell magic `%%sql` not found.\n"
     ]
    }
   ],
   "source": [
    "%%sql\n",
    "SELECT *\n",
    "FROM   applications\n",
    "       INNER JOIN students ON applications.s_id = students.s_id"
   ]
  },
  {
   "cell_type": "markdown",
   "metadata": {},
   "source": [
    "and we would get the joined table (note that the first columns are from the `applications` table, whereas the last columns are from the `students` table &#x2013; also note that `s_id` and `s_id'` always is the same):\n",
    "\n",
    "<div>\n",
    "<table rules=\"all\">\n",
    "<tr>\n",
    "  <th><code>s&lowbar;id</code></th>\n",
    "  <th><code>c&lowbar;name</code></th>\n",
    "  <th><code>major</code></th>\n",
    "  <th><code>decision</code></th>\n",
    "  <th><code>s&lowbar;id'</code></th>\n",
    "  <th><code>s&lowbar;name</code></th>\n",
    "  <th><code>gpa</code></th>\n",
    "</tr>\n",
    "<TR>\n",
    "  <TD>123</TD><TD>Stanford</TD><TD>CS</TD>\n",
    "  <TD>Y</TD><TD>123</TD><TD>Amy</TD><TD>3.9</TD>\n",
    "</TR>\n",
    "<TR>\n",
    "  <TD>123</TD><TD>Stanford</TD><TD>EE</TD>\n",
    "  <TD>N</TD><TD>123</TD><TD>Amy</TD><TD>3.9</TD>\n",
    "</TR>\n",
    "<TR>\n",
    "  <TD>123</TD><TD>Berkeley</TD><TD>CS</TD>\n",
    "  <TD>Y</TD><TD>123</TD><TD>Amy</TD><TD>3.9</TD>\n",
    "</TR>\n",
    "<TR>\n",
    "  <TD>123</TD><TD>Cornell</TD><TD>EE</TD>\n",
    "  <TD>Y</TD><TD>123</TD><TD>Amy</TD><TD>3.9</TD>\n",
    "</TR>\n",
    "<TR>\n",
    "  <TD>234</TD><TD>Berkeley</TD><TD>biology</TD>\n",
    "  <TD>N</TD><TD>234</TD><TD>Bob</TD><TD>3.6</TD>\n",
    "</TR>\n",
    "<TR>\n",
    "  <TD>345</TD><TD>MIT</TD><TD>bioengineering</TD>\n",
    "  <TD>Y</TD><TD>345</TD><TD>Craig</TD><TD>3.5</TD>\n",
    "</TR>\n",
    "<TR>\n",
    "  <TD>345</TD><TD>Cornell</TD><TD>bioengineering</TD>\n",
    "  <TD>N</TD><TD>345</TD><TD>Craig</TD><TD>3.5</TD>\n",
    "</TR>\n",
    "<TR>\n",
    "  <TD>345</TD><TD>Cornell</TD><TD>CS</TD>\n",
    "  <TD>Y</TD><TD>345</TD><TD>Craig</TD><TD>3.5</TD>\n",
    "</TR>\n",
    "<TR>\n",
    "  <TD>345</TD><TD>Cornell</TD><TD>EE</TD>\n",
    "  <TD>N</TD><TD>345</TD><TD>Craig</TD><TD>3.5</TD>\n",
    "</TR>\n",
    "<TR>\n",
    "  <TD>678</TD><TD>Stanford</TD><TD>history</TD>\n",
    "  <TD>Y</TD><TD>678</TD><TD>Fay</TD><TD>3.8</TD>\n",
    "</TR>\n",
    "<TR>\n",
    "  <TD>987</TD><TD>Stanford</TD><TD>CS</TD>\n",
    "  <TD>Y</TD><TD>987</TD><TD>Helen</TD><TD>3.7</TD>\n",
    "</TR>\n",
    "<TR>\n",
    "  <TD>987</TD><TD>Berkeley</TD><TD>CS</TD>\n",
    "  <TD>Y</TD><TD>987</TD><TD>Helen</TD><TD>3.7</TD>\n",
    "</TR>\n",
    "<TR>\n",
    "  <TD>876</TD><TD>Stanford</TD><TD>CS</TD>\n",
    "  <TD>N</TD><TD>876</TD><TD>Irene</TD><TD>3.9</TD>\n",
    "</TR>\n",
    "<TR>\n",
    "  <TD>876</TD><TD>MIT</TD><TD>biology</TD>\n",
    "  <TD>Y</TD><TD>876</TD><TD>Irene</TD><TD>3.9</TD>\n",
    "</TR>\n",
    "<TR>\n",
    "  <TD>876</TD><TD>MIT</TD><TD>marine biology</TD>\n",
    "  <TD>N</TD><TD>876</TD><TD>Irene</TD><TD>3.9</TD>\n",
    "</TR>\n",
    "<TR>\n",
    "  <TD>765</TD><TD>Stanford</TD><TD>history</TD>\n",
    "  <TD>Y</TD><TD>765</TD><TD>Jay</TD><TD>2.9</TD>\n",
    "</TR>\n",
    "<TR>\n",
    "  <TD>765</TD><TD>Cornell</TD><TD>history</TD>\n",
    "  <TD>N</TD><TD>765</TD><TD>Jay</TD><TD>2.9</TD>\n",
    "</TR>\n",
    "<TR>\n",
    "  <TD>765</TD><TD>Cornell</TD><TD>psychology</TD>\n",
    "  <TD>Y</TD><TD>765</TD><TD>Jay</TD><TD>2.9</TD>\n",
    "</TR>\n",
    "<TR>\n",
    "  <TD>543</TD><TD>MIT</TD><TD>CS</TD>\n",
    "  <TD>N</TD><TD>543</TD><TD>Craig</TD><TD>3.4</TD>\n",
    "</TR>\n",
    "</table></div>\n",
    "\n",
    "which contains all information we need.\n",
    "\n",
    "We'll soon see other kinds of joins, but inner joins are the 'default', and so we can skip the reserved word `INNER`, and just write:\n",
    "\n"
   ]
  },
  {
   "cell_type": "code",
   "execution_count": 1,
   "metadata": {},
   "outputs": [],
   "source": [
    "%%sql\n",
    "SELECT *\n",
    "FROM   applications\n",
    "       JOIN students ON applications.s_id = students.s_id"
   ]
  },
  {
   "cell_type": "markdown",
   "metadata": {},
   "source": [
    "Since the join predicate is just a test of equality of one attribute from each table (it's called an *equijoin*), and the attribute has the same name in both tables, we can use the simpler form:\n",
    "\n"
   ]
  },
  {
   "cell_type": "code",
   "execution_count": 1,
   "metadata": {},
   "outputs": [],
   "source": [
    "%%sql\n",
    "SELECT *\n",
    "FROM   applications\n",
    "       JOIN students USING (s_id)"
   ]
  },
  {
   "cell_type": "markdown",
   "metadata": {},
   "source": [
    "which gives (observe that we now only have one <code>s&lowbar;id</code> column):\n",
    "\n",
    "<div>\n",
    "<table rules=\"all\">\n",
    "<tr>\n",
    "  <th><code>s&lowbar;id</code></th>\n",
    "  <th><code>c&lowbar;name</code></th>\n",
    "  <th><code>major</code></th>\n",
    "  <th><code>decision</code></th>\n",
    "  <th><code>s&lowbar;name</code></th>\n",
    "  <th><code>gpa</code></th>\n",
    "</tr>\n",
    "<TR>\n",
    "  <TD>123</TD><TD>Stanford</TD><TD>CS</TD>\n",
    "  <TD>Y</TD><TD>Amy</TD><TD>3.9</TD>\n",
    "</TR>\n",
    "<TR>\n",
    "  <TD>123</TD><TD>Stanford</TD><TD>EE</TD>\n",
    "  <TD>N</TD><TD>Amy</TD><TD>3.9</TD>\n",
    "</TR>\n",
    "<TR>\n",
    "  <TD>123</TD><TD>Berkeley</TD><TD>CS</TD>\n",
    "  <TD>Y</TD><TD>Amy</TD><TD>3.9</TD>\n",
    "</TR>\n",
    "<TR>\n",
    "  <TD>123</TD><TD>Cornell</TD><TD>EE</TD>\n",
    "  <TD>Y</TD><TD>Amy</TD><TD>3.9</TD>\n",
    "</TR>\n",
    "<TR>\n",
    "  <TD>234</TD><TD>Berkeley</TD><TD>biology</TD>\n",
    "  <TD>N</TD><TD>Bob</TD><TD>3.6</TD>\n",
    "</TR>\n",
    "<TR>\n",
    "  <TD>345</TD><TD>MIT</TD><TD>bioengineering</TD>\n",
    "  <TD>Y</TD><TD>Craig</TD><TD>3.5</TD>\n",
    "</TR>\n",
    "<TR>\n",
    "  <TD>345</TD><TD>Cornell</TD><TD>bioengineering</TD>\n",
    "  <TD>N</TD><TD>Craig</TD><TD>3.5</TD>\n",
    "</TR>\n",
    "<TR>\n",
    "  <TD>345</TD><TD>Cornell</TD><TD>CS</TD>\n",
    "  <TD>Y</TD><TD>Craig</TD><TD>3.5</TD>\n",
    "</TR>\n",
    "<TR>\n",
    "  <TD>345</TD><TD>Cornell</TD><TD>EE</TD>\n",
    "  <TD>N</TD><TD>Craig</TD><TD>3.5</TD>\n",
    "</TR>\n",
    "<TR>\n",
    "  <TD>678</TD><TD>Stanford</TD><TD>history</TD>\n",
    "  <TD>Y</TD><TD>Fay</TD><TD>3.8</TD>\n",
    "</TR>\n",
    "<TR>\n",
    "  <TD>987</TD><TD>Stanford</TD><TD>CS</TD>\n",
    "  <TD>Y</TD><TD>Helen</TD><TD>3.7</TD>\n",
    "</TR>\n",
    "<TR>\n",
    "  <TD>987</TD><TD>Berkeley</TD><TD>CS</TD>\n",
    "  <TD>Y</TD><TD>Helen</TD><TD>3.7</TD>\n",
    "</TR>\n",
    "<TR>\n",
    "  <TD>876</TD><TD>Stanford</TD><TD>CS</TD>\n",
    "  <TD>N</TD><TD>Irene</TD><TD>3.9</TD>\n",
    "</TR>\n",
    "<TR>\n",
    "  <TD>876</TD><TD>MIT</TD><TD>biology</TD>\n",
    "  <TD>Y</TD><TD>Irene</TD><TD>3.9</TD>\n",
    "</TR>\n",
    "<TR>\n",
    "  <TD>876</TD><TD>MIT</TD><TD>marine biology</TD>\n",
    "  <TD>N</TD><TD>Irene</TD><TD>3.9</TD>\n",
    "</TR>\n",
    "<TR>\n",
    "  <TD>765</TD><TD>Stanford</TD><TD>history</TD>\n",
    "  <TD>Y</TD><TD>Jay</TD><TD>2.9</TD>\n",
    "</TR>\n",
    "<TR>\n",
    "  <TD>765</TD><TD>Cornell</TD><TD>history</TD>\n",
    "  <TD>N</TD><TD>Jay</TD><TD>2.9</TD>\n",
    "</TR>\n",
    "<TR>\n",
    "  <TD>765</TD><TD>Cornell</TD><TD>psychology</TD>\n",
    "  <TD>Y</TD><TD>Jay</TD><TD>2.9</TD>\n",
    "</TR>\n",
    "<TR>\n",
    "  <TD>543</TD><TD>MIT</TD><TD>CS</TD>\n",
    "  <TD>N</TD><TD>Craig</TD><TD>3.4</TD>\n",
    "</TR>\n",
    "</table></div>\n",
    "\n",
    "In the first join above we got two `s_id` columns (SQL can't possibly know that `s_id` describes the same thing in both tables), but with the `JOIN` `USING` construct, we tell SQL that they describe the same thing, so the join returns only one column for `s_id`.\n",
    "\n",
    "In general, we can compare sets of several attributes in a `JOIN` `USING` query.\n",
    "\n",
    "*Observe that a row in one table could match several rows in the other table, and it would therefore generate several rows in the combined table.*\n",
    "\n",
    "Once we've joined our tables, we can proceed as we did before, with a `WHERE` clause:\n",
    "\n"
   ]
  },
  {
   "cell_type": "code",
   "execution_count": 1,
   "metadata": {},
   "outputs": [],
   "source": [
    "%%sql\n",
    "SELECT    s_name, gpa\n",
    "FROM      applications\n",
    "          JOIN students USING (s_id)\n",
    "WHERE     c_name = 'Stanford' AND major = 'CS'"
   ]
  },
  {
   "cell_type": "markdown",
   "metadata": {},
   "source": [
    "If we look at the syntax diagram for the [`SELECT` statement](https://sqlite.org/lang_select.html), we see that we join our tables in the `FROM` clause (see `join-clause`), and that we can use everything we've learned so far to work on the joined tables (so we can group and use window functions and subqueries just as we've done before).\n",
    "\n",
    "The combined, rather clumsy table will probably never be created, database engines are *extremely* clever when they decide on what data they need to keep around to execute their queries &#x2013; so we normally do not need to worry much about efficiency (we'll talk a little more about this later in the course).\n",
    "\n",
    "---\n",
    "\n",
    "It could be useful to stop here for a while, and consider how you'd solve the problem above using Python or Java (or any other regular programming language).\n",
    "In case we let the students keep track of their applications, we'd need to loop through all students, and then all their applications looking for applications to CS@Stanford.\n",
    "\n",
    "Deciding on who should keep track of what is a typical example of premature optimization, and using a relational database relieves us of this problem.\n",
    "\n",
    "---\n",
    "\n",
    "**Problem:** Show the id and name for all students who has applied for CS in California (state code `CA`).\n",
    "\n"
   ]
  },
  {
   "cell_type": "code",
   "execution_count": 1,
   "metadata": {},
   "outputs": [],
   "source": [
    "%%sql"
   ]
  },
  {
   "cell_type": "markdown",
   "metadata": {},
   "source": [
    "#### Cross joins\n",
    "\n"
   ]
  },
  {
   "cell_type": "markdown",
   "metadata": {},
   "source": [
    "As we saw above, an inner join combines rows in two tables when the rows matches on some join predicate.\n",
    "The predicate is typically dependent on column values in both rows (e.g., that the student ids in each table should match), but we can also use a seemingly nonsensical predicate such as `true` (which is always true):\n",
    "\n"
   ]
  },
  {
   "cell_type": "code",
   "execution_count": 1,
   "metadata": {},
   "outputs": [],
   "source": [
    "%%sql\n",
    "SELECT   *\n",
    "FROM     applications\n",
    "         JOIN students ON true"
   ]
  },
  {
   "cell_type": "markdown",
   "metadata": {},
   "source": [
    "This would mean that all rows in the applications table would match all rows in the students table, and we would get what's called the *cartesian product* of the two tables (or sets of rows), i.e., all combinations of rows in the tables.\n",
    "\n",
    "This is exactly what a cross join is &#x2013; we can write it as:\n",
    "\n"
   ]
  },
  {
   "cell_type": "code",
   "execution_count": 1,
   "metadata": {},
   "outputs": [],
   "source": [
    "%%sql\n",
    "SELECT   *\n",
    "FROM     applications\n",
    "         CROSS JOIN students"
   ]
  },
  {
   "cell_type": "markdown",
   "metadata": {},
   "source": [
    "and we typically use a `WHERE` clause to narrow the generated table into a table where only matching rows remains afterwards.\n",
    "\n",
    "So, the query\n",
    "\n"
   ]
  },
  {
   "cell_type": "code",
   "execution_count": 1,
   "metadata": {},
   "outputs": [],
   "source": [
    "%%sql\n",
    "SELECT    s_name, gpa\n",
    "FROM      applications\n",
    "          JOIN students USING (s_id)\n",
    "WHERE     c_name = 'Stanford' AND major = 'CS'"
   ]
  },
  {
   "cell_type": "markdown",
   "metadata": {},
   "source": [
    "could have been written using a cross join instead:\n",
    "\n"
   ]
  },
  {
   "cell_type": "code",
   "execution_count": 1,
   "metadata": {},
   "outputs": [],
   "source": [
    "%%sql\n",
    "SELECT    s_name, gpa\n",
    "FROM      applications\n",
    "          CROSS JOIN students\n",
    "WHERE     applications.s_id = students.s_id\n",
    "          AND c_name = 'Stanford'\n",
    "          AND major = 'CS'"
   ]
  },
  {
   "cell_type": "markdown",
   "metadata": {},
   "source": [
    "This may look terrible at first sight, creating a huge table and then throwing away most of the combined rows, but, as said above, database engines are very, very clever, and they might find a way to make even this query fast.\n",
    "But I'd still recommend that you use inner queries, since it might help the database to find a faster query plan, and it's conceptually easier to understand for a person looking at your code.\n",
    "\n",
    "By the way, there is a shortcut for cross joins, &#x2026;\n",
    "\n"
   ]
  },
  {
   "cell_type": "code",
   "execution_count": 1,
   "metadata": {},
   "outputs": [],
   "source": [
    "%%sql\n",
    "SELECT    s_name, gpa\n",
    "FROM      applications, students\n",
    "WHERE     applications.s_id = students.s_id\n",
    "          AND c_name = 'Stanford'\n",
    "          AND major = 'CS'"
   ]
  },
  {
   "cell_type": "markdown",
   "metadata": {},
   "source": [
    "but, once again, opt for inner joins instead!\n",
    "\n"
   ]
  },
  {
   "cell_type": "markdown",
   "metadata": {},
   "source": [
    "#### Outer joins\n",
    "\n"
   ]
  },
  {
   "cell_type": "markdown",
   "metadata": {},
   "source": [
    "We saw above that a row in one table which matches several rows in the other table would give rise to several rows in the combined table.\n",
    "But it also goes the other way &#x2013; when we do an inner join on two tables, rows for which the join predicate doesn't match any row in the other table will 'disappear' in the combined table.\n",
    "\n",
    "So if we wanted to list all students and their applications, and wrote:\n",
    "\n"
   ]
  },
  {
   "cell_type": "code",
   "execution_count": 1,
   "metadata": {},
   "outputs": [],
   "source": [
    "%%sql\n",
    "SELECT    *\n",
    "FROM      students\n",
    "          JOIN applications USING (s_id)\n",
    "ORDER BY  s_name"
   ]
  },
  {
   "cell_type": "markdown",
   "metadata": {},
   "source": [
    "we would get all applications, but those students who hadn't applied for any major would be left out.\n",
    "\n",
    "If we want to make sure that all rows in the first ('left') table survives the join, we can use a *left outer join*.\n",
    "On outer join is a join in which we guarantee that all rows in one or both our tables will be present in the result.\n",
    "But that leads to an important question: how do we combine an 'uncombinable' row?\n",
    "The answer is that we combine it with a row full of `NULL` values in the other table &#x2013; if we try a left outer join, and puts the `students` table first (on the left), we get:\n",
    "\n"
   ]
  },
  {
   "cell_type": "code",
   "execution_count": 1,
   "metadata": {},
   "outputs": [],
   "source": [
    "%%sql\n",
    "SELECT    *\n",
    "FROM      students\n",
    "          LEFT OUTER JOIN applications USING (s_id)\n",
    "ORDER BY  s_name"
   ]
  },
  {
   "cell_type": "markdown",
   "metadata": {},
   "source": [
    "<div>\n",
    "<table rules=\"all\">\n",
    "<tr>\n",
    "  <th><code>s&lowbar;id</code></th>\n",
    "  <th><code>c&lowbar;name</code></th>\n",
    "  <th><code>major</code></th>\n",
    "  <th><code>decision</code></th>\n",
    "  <th><code>s&lowbar;name</code></th>\n",
    "  <th><code>gpa</code></th>\n",
    "</tr>\n",
    "<TR>\n",
    "  <TD>123</TD><TD>Amy</TD><TD>3.9</TD>\n",
    "  <TD>Berkeley</TD><TD>CS</TD><TD>Y</TD>\n",
    "</TR>\n",
    "<TR>\n",
    "  <TD>123</TD><TD>Amy</TD><TD>3.9</TD>\n",
    "  <TD>Cornell</TD><TD>EE</TD><TD>Y</TD>\n",
    "</TR>\n",
    "<TR>\n",
    "  <TD>123</TD><TD>Amy</TD><TD>3.9</TD>\n",
    "  <TD>Stanford</TD><TD>CS</TD><TD>Y</TD>\n",
    "</TR>\n",
    "<TR>\n",
    "  <TD>123</TD><TD>Amy</TD><TD>3.9</TD>\n",
    "  <TD>Stanford</TD><TD>EE</TD><TD>N</TD>\n",
    "</TR>\n",
    "<TR>\n",
    "  <TD>654</TD><TD>Amy</TD><TD>3.9</TD>\n",
    "  <TD><code>NULL</code></TD>\n",
    "  <TD><code>NULL</code></TD>\n",
    "  <TD><code>NULL</code></TD>\n",
    "</TR>\n",
    "<TR>\n",
    "  <TD>234</TD><TD>Bob</TD><TD>3.6</TD>\n",
    "  <TD>Berkeley</TD><TD>biology</TD><TD>N</TD>\n",
    "</TR>\n",
    "<TR>\n",
    "  <TD>345</TD><TD>Craig</TD><TD>3.5</TD>\n",
    "  <TD>Cornell</TD><TD>CS</TD><TD>Y</TD>\n",
    "</TR>\n",
    "<TR>\n",
    "  <TD>345</TD><TD>Craig</TD><TD>3.5</TD>\n",
    "  <TD>Cornell</TD><TD>EE</TD><TD>N</TD>\n",
    "</TR>\n",
    "<TR>\n",
    "  <TD>345</TD><TD>Craig</TD><TD>3.5</TD>\n",
    "  <TD>Cornell</TD><TD>bioengineering</TD><TD>N</TD>\n",
    "</TR>\n",
    "<TR>\n",
    "  <TD>345</TD><TD>Craig</TD><TD>3.5</TD>\n",
    "  <TD>MIT</TD><TD>bioengineering</TD><TD>Y</TD>\n",
    "</TR>\n",
    "<TR>\n",
    "  <TD>543</TD><TD>Craig</TD><TD>3.4</TD>\n",
    "  <TD>MIT</TD><TD>CS</TD><TD>N</TD>\n",
    "</TR>\n",
    "<TR>\n",
    "  <TD>456</TD><TD>Doris</TD><TD>3.9</TD>\n",
    "  <TD><code>NULL</code></TD>\n",
    "  <TD><code>NULL</code></TD>\n",
    "  <TD><code>NULL</code></TD>\n",
    "</TR>\n",
    "<TR>\n",
    "  <TD>567</TD><TD>Edward</TD><TD>2.9</TD>\n",
    "  <TD><code>NULL</code></TD>\n",
    "  <TD><code>NULL</code></TD>\n",
    "  <TD><code>NULL</code></TD>\n",
    "</TR>\n",
    "<TR>\n",
    "  <TD>678</TD><TD>Fay</TD><TD>3.8</TD>\n",
    "  <TD>Stanford</TD><TD>history</TD><TD>Y</TD>\n",
    "</TR>\n",
    "<TR>\n",
    "  <TD>789</TD><TD>Gary</TD><TD>3.4</TD>\n",
    "  <TD><code>NULL</code></TD>\n",
    "  <TD><code>NULL</code></TD>\n",
    "  <TD><code>NULL</code></TD>\n",
    "</TR>\n",
    "<TR>\n",
    "  <TD>987</TD><TD>Helen</TD><TD>3.7</TD>\n",
    "  <TD>Berkeley</TD><TD>CS</TD><TD>Y</TD>\n",
    "</TR>\n",
    "<TR>\n",
    "  <TD>987</TD><TD>Helen</TD><TD>3.7</TD>\n",
    "  <TD>Stanford</TD><TD>CS</TD><TD>Y</TD>\n",
    "</TR>\n",
    "<TR>\n",
    "  <TD>876</TD><TD>Irene</TD><TD>3.9</TD>\n",
    "  <TD>MIT</TD><TD>biology</TD><TD>Y</TD>\n",
    "</TR>\n",
    "<TR>\n",
    "  <TD>876</TD><TD>Irene</TD><TD>3.9</TD>\n",
    "  <TD>MIT</TD><TD>marine biology</TD><TD>N</TD>\n",
    "</TR>\n",
    "<TR>\n",
    "  <TD>876</TD><TD>Irene</TD><TD>3.9</TD>\n",
    "  <TD>Stanford</TD><TD>CS</TD><TD>N</TD>\n",
    "</TR>\n",
    "<TR>\n",
    "  <TD>765</TD><TD>Jay</TD><TD>2.9</TD>\n",
    "  <TD>Cornell</TD><TD>history</TD><TD>N</TD>\n",
    "</TR>\n",
    "<TR>\n",
    "  <TD>765</TD><TD>Jay</TD><TD>2.9</TD>\n",
    "  <TD>Cornell</TD><TD>psychology</TD><TD>Y</TD>\n",
    "</TR>\n",
    "<TR>\n",
    "  <TD>765</TD><TD>Jay</TD><TD>2.9</TD>\n",
    "  <TD>Stanford</TD><TD>history</TD><TD>Y</TD>\n",
    "</TR>\n",
    "</table></div>\n",
    "\n",
    "Here we see 'the other Amy' (i.e., the one with `s_id` 654), Doris, Edward, and Gary, who apparently haven't applied for anything &#x2013; the columns which would have been taken from the `applications` table in case of a match are now set to `NULL`.\n",
    "\n",
    "The fact that an outer join pads rows which can't be matched in the 'other' table with `NULL` values gives us a nice way to find out which values might be missing in a table &#x2013; se the following problem.\n",
    "\n",
    "**Problem:** We want to find all students who hasn't applied for any major &#x2013; do it in two ways:\n",
    "\n",
    "-   Using a subquery.\n",
    "\n"
   ]
  },
  {
   "cell_type": "code",
   "execution_count": 1,
   "metadata": {},
   "outputs": [],
   "source": [
    "%%sql"
   ]
  },
  {
   "cell_type": "markdown",
   "metadata": {},
   "source": [
    "-   Using an outer join (checking where we've padded with `NULL` columns).\n",
    "\n"
   ]
  },
  {
   "cell_type": "code",
   "execution_count": 1,
   "metadata": {},
   "outputs": [],
   "source": [
    "%%sql"
   ]
  },
  {
   "cell_type": "markdown",
   "metadata": {},
   "source": [
    "This way of finding missing values may look like a hack, but it's in fact idiomatic.\n",
    "\n"
   ]
  },
  {
   "cell_type": "markdown",
   "metadata": {},
   "source": [
    "##### Other outer joins\n",
    "\n"
   ]
  },
  {
   "cell_type": "markdown",
   "metadata": {},
   "source": [
    "There are three kinds of outer joins:\n",
    "\n",
    "-   `LEFT OUTER JOIN`, which can be abbreviated `LEFT JOIN` &#x2013; this is when we keep all rows in the first (leftmost) table, padding with `NULL` values when they don't match any row in the other table.\n",
    "\n",
    "-   `RIGHT OUTER JOIN`, which can be abbreviated `RIGHT JOIN` &#x2013; this is when we keep all rows in the second (rightmost) table, padding with `NULL` values when they don't match any row in the other table.\n",
    "\n",
    "-   `FULL OUTER JOIN`, which can be abbreviated `FULL JOIN` &#x2013; this is when we keep all rows in both tables, padding with `NULL` values when they don't match any row in the other table.\n",
    "\n"
   ]
  },
  {
   "cell_type": "markdown",
   "metadata": {},
   "source": [
    "#### Exercises\n",
    "\n"
   ]
  },
  {
   "cell_type": "markdown",
   "metadata": {},
   "source": [
    "**Exercise:** How many students with a gpa above 3.5 have applied for a CS major at a college in California (CA)?\n",
    "\n"
   ]
  },
  {
   "cell_type": "code",
   "execution_count": 1,
   "metadata": {},
   "outputs": [],
   "source": [
    "%%sql"
   ]
  },
  {
   "cell_type": "markdown",
   "metadata": {},
   "source": [
    "**Hint:** It could be a good idea to first define a CTE with the relevant students.\n",
    "\n",
    "Your query should return 3.\n",
    "\n",
    "**Exercise:** List the id, name, and gpa for all students who have applied for more than one major in California (CA).\n",
    "\n"
   ]
  },
  {
   "cell_type": "code",
   "execution_count": 1,
   "metadata": {},
   "outputs": [],
   "source": [
    "%%sql"
   ]
  },
  {
   "cell_type": "markdown",
   "metadata": {},
   "source": [
    "Your query should return:\n",
    "\n",
    "    s_id  s_name  gpa\n",
    "    ----  ------  ---\n",
    "    123   Amy     3.9\n",
    "    987   Helen   3.7\n",
    "\n",
    "**Exercise:** Which are the three programs (major@college) with the lowest gpa for any accepted student.\n",
    "\n"
   ]
  },
  {
   "cell_type": "code",
   "execution_count": 1,
   "metadata": {},
   "outputs": [],
   "source": [
    "%%sql"
   ]
  },
  {
   "cell_type": "markdown",
   "metadata": {},
   "source": [
    "The output should be:\n",
    "\n",
    "    c_name    major       min(gpa)\n",
    "    --------  ----------  --------\n",
    "    Cornell   psychology  2.9\n",
    "    Stanford  history     2.9\n",
    "    Cornell   CS          3.5\n",
    "\n",
    "And which are the three programs with the highest gpa for a student not accepted?\n",
    "\n"
   ]
  },
  {
   "cell_type": "code",
   "execution_count": 1,
   "metadata": {},
   "outputs": [],
   "source": [
    "%%sql"
   ]
  },
  {
   "cell_type": "markdown",
   "metadata": {},
   "source": [
    "The output should be:\n",
    "\n",
    "    c_name    major           max(gpa)\n",
    "    --------  --------------  --------\n",
    "    MIT       marine biology  3.9\n",
    "    Stanford  CS              3.9\n",
    "    Stanford  EE              3.9\n",
    "\n",
    "**Comment:** Apparently the gpa isn't the only criterion for acceptance, since Irene (`s_id` 876) wasn't accepted at CS@Stanford, but Helen (`s_id` 987) was, although Irene has a higher gpa.\n",
    "\n"
   ]
  },
  {
   "cell_type": "markdown",
   "metadata": {},
   "source": [
    "### Set operations\n",
    "\n"
   ]
  },
  {
   "cell_type": "markdown",
   "metadata": {},
   "source": [
    "Relational databases and SQL are based on relational algebra, and this means that we can use simple set operations on our data.\n",
    "If we look at the `compound-operator` in the [`SELECT` statement](https://sqlite.org/lang_select.html), we see that we can combine the results of queries using `UNION`, `INTERSECT`, and `EXCEPT`.\n",
    "\n",
    "This only works if the queries return exactly the same columns.\n",
    "\n",
    "<center>\n",
    "<img src=\"./select-compound-01.svg\">\n",
    "</center>\n",
    "\n",
    "**Problem:** List the names and gpa for students who have applied for a major at a college in California, but haven't applied in any other state.\n",
    "\n"
   ]
  },
  {
   "cell_type": "code",
   "execution_count": 1,
   "metadata": {},
   "outputs": [],
   "source": [
    "%%sql"
   ]
  },
  {
   "cell_type": "markdown",
   "metadata": {},
   "source": [
    "### INSERT, UPDATE and DELETE\n",
    "\n"
   ]
  },
  {
   "cell_type": "markdown",
   "metadata": {},
   "source": [
    "To maintain our databases, we need ways to change their contents, and for that we have tree important functions:\n",
    "\n",
    "-   [`INSERT`](https://www.sqlite.org/lang_insert.html): inserts a row into a table\n",
    "\n",
    "-   [`UPDATE`](https://www.sqlite.org/lang_update.html): updates rows which matches some predicate\n",
    "\n",
    "-   [`DELETE`](https://www.sqlite.org/lang_delete.html): deletes rows which matches some predicate\n",
    "\n",
    "We'll talk more about these functions next week, when we talk about modeling (then we'll also discuss the concept of *keys*, which is quite important when we modify our tables).\n",
    "\n"
   ]
  }
 ],
 "metadata": {
  "kernelspec": {
   "display_name": "Python 3 (ipykernel)",
   "language": "python",
   "name": "python3"
  },
  "language_info": {
   "codemirror_mode": {
    "name": "ipython",
    "version": 3
   },
   "file_extension": ".py",
   "mimetype": "text/x-python",
   "name": "python",
   "nbconvert_exporter": "python",
   "pygments_lexer": "ipython3",
   "version": "3.11.7"
  },
  "org": null
 },
 "nbformat": 4,
 "nbformat_minor": 4
}
