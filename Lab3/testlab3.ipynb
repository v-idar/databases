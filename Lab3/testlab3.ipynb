{
 "cells": [
  {
   "cell_type": "code",
   "execution_count": 1,
   "metadata": {},
   "outputs": [],
   "source": [
    "%load_ext sql"
   ]
  },
  {
   "cell_type": "code",
   "execution_count": 2,
   "metadata": {},
   "outputs": [],
   "source": [
    "%sql sqlite:///movies.sqlite"
   ]
  },
  {
   "cell_type": "code",
   "execution_count": 5,
   "metadata": {},
   "outputs": [
    {
     "name": "stdout",
     "output_type": "stream",
     "text": [
      " * sqlite:///movies.sqlite\n",
      "Done.\n"
     ]
    },
    {
     "data": {
      "text/plain": [
       "[]"
      ]
     },
     "execution_count": 5,
     "metadata": {},
     "output_type": "execute_result"
    }
   ],
   "source": [
    "%%sql \n",
    "PRAGMA foreign_keys=ON;"
   ]
  },
  {
   "cell_type": "code",
   "execution_count": 8,
   "metadata": {},
   "outputs": [
    {
     "name": "stdout",
     "output_type": "stream",
     "text": [
      " * sqlite:///movies.sqlite\n",
      "Done.\n"
     ]
    },
    {
     "data": {
      "text/html": [
       "<table>\n",
       "    <thead>\n",
       "        <tr>\n",
       "            <th>screening_id</th>\n",
       "            <th>start_time</th>\n",
       "            <th>start_date</th>\n",
       "            <th>theater_name</th>\n",
       "            <th>imdb_key</th>\n",
       "            <th>remaining_seats</th>\n",
       "            <th>movie_title</th>\n",
       "            <th>production_year</th>\n",
       "            <th>running_time</th>\n",
       "        </tr>\n",
       "    </thead>\n",
       "    <tbody>\n",
       "        <tr>\n",
       "            <td>7b1fb2839f90d9ec800a27d8e2d1a0b8</td>\n",
       "            <td>19:00</td>\n",
       "            <td>2021-02-22</td>\n",
       "            <td>Regal</td>\n",
       "            <td>tt3661210</td>\n",
       "            <td>16</td>\n",
       "            <td>TheDig</td>\n",
       "            <td>2021</td>\n",
       "            <td>None</td>\n",
       "        </tr>\n",
       "        <tr>\n",
       "            <td>1f7d40357d8a9fec79bb0af8960fc003</td>\n",
       "            <td>21:00</td>\n",
       "            <td>2021-02-22</td>\n",
       "            <td>Regal</td>\n",
       "            <td>tt3661210</td>\n",
       "            <td>16</td>\n",
       "            <td>TheDig</td>\n",
       "            <td>2021</td>\n",
       "            <td>None</td>\n",
       "        </tr>\n",
       "        <tr>\n",
       "            <td>47d712715f65f79077aa804dee5735c6</td>\n",
       "            <td>19:00</td>\n",
       "            <td>2021-02-22</td>\n",
       "            <td>Skandia</td>\n",
       "            <td>tt10016180</td>\n",
       "            <td>100</td>\n",
       "            <td>TheLittleThings</td>\n",
       "            <td>2021</td>\n",
       "            <td>None</td>\n",
       "        </tr>\n",
       "    </tbody>\n",
       "</table>"
      ],
      "text/plain": [
       "[('7b1fb2839f90d9ec800a27d8e2d1a0b8', '19:00', '2021-02-22', 'Regal', 'tt3661210', 16, 'TheDig', 2021, None),\n",
       " ('1f7d40357d8a9fec79bb0af8960fc003', '21:00', '2021-02-22', 'Regal', 'tt3661210', 16, 'TheDig', 2021, None),\n",
       " ('47d712715f65f79077aa804dee5735c6', '19:00', '2021-02-22', 'Skandia', 'tt10016180', 100, 'TheLittleThings', 2021, None)]"
      ]
     },
     "execution_count": 8,
     "metadata": {},
     "output_type": "execute_result"
    }
   ],
   "source": [
    "%%sql\n",
    "SELECT * \n",
    "              FROM screenings\n",
    "              JOIN movies USING (imdb_key)"
   ]
  },
  {
   "cell_type": "code",
   "execution_count": 13,
   "metadata": {},
   "outputs": [
    {
     "name": "stdout",
     "output_type": "stream",
     "text": [
      " * sqlite:///movies.sqlite\n",
      "Done.\n"
     ]
    },
    {
     "data": {
      "text/html": [
       "<table>\n",
       "    <thead>\n",
       "        <tr>\n",
       "            <th>screening_id</th>\n",
       "            <th>start_time</th>\n",
       "            <th>start_date</th>\n",
       "            <th>theater_name</th>\n",
       "            <th>imdb_key</th>\n",
       "            <th>remaining_seats</th>\n",
       "            <th>movie_title</th>\n",
       "            <th>production_year</th>\n",
       "            <th>running_time</th>\n",
       "            <th>user_name</th>\n",
       "            <th>full_name</th>\n",
       "            <th>password</th>\n",
       "            <th>ticket_id</th>\n",
       "        </tr>\n",
       "    </thead>\n",
       "    <tbody>\n",
       "    </tbody>\n",
       "</table>"
      ],
      "text/plain": [
       "[]"
      ]
     },
     "execution_count": 13,
     "metadata": {},
     "output_type": "execute_result"
    }
   ],
   "source": [
    "%%sql\n",
    "WITH nbrtickets AS (SELECT *\n",
    "              FROM customers\n",
    "              JOIN tickets USING (user_name)\n",
    "              WHERE user_name = ?)\n",
    "              ,\n",
    "\n",
    "    movie_info AS (SELECT * \n",
    "              FROM screenings\n",
    "              JOIN movies USING (imdb_key))\n",
    "\n",
    "            SELECT start_date, start_time, theater_name, movie_tittle, production_year, count() as numberOftickets\n",
    "            FROM movie_info \n",
    "            JOIN nbrtickets USING (screening_id)\n",
    "            GROUP BY screening_id\n",
    "\n"
   ]
  },
  {
   "cell_type": "code",
   "execution_count": null,
   "metadata": {},
   "outputs": [],
   "source": []
  }
 ],
 "metadata": {
  "kernelspec": {
   "display_name": "env",
   "language": "python",
   "name": "python3"
  },
  "language_info": {
   "codemirror_mode": {
    "name": "ipython",
    "version": 3
   },
   "file_extension": ".py",
   "mimetype": "text/x-python",
   "name": "python",
   "nbconvert_exporter": "python",
   "pygments_lexer": "ipython3",
   "version": "3.11.8"
  }
 },
 "nbformat": 4,
 "nbformat_minor": 2
}
