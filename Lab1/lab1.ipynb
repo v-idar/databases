{
 "cells": [
  {
   "cell_type": "markdown",
   "id": "cd0a106a",
   "metadata": {},
   "source": [
    "<!-- # -*- mode: markdown; coding: utf-8; fill-column: 60; org-indent-mode: t; column-number-mode: t; flyspell-mode: t; ispell-local-dictionary: \"en\"; eval: (visual-on); -*- -->\n",
    "\n",
    "<meta charset=\"utf-8\"/>\n",
    "<meta name=\"viewport\" content=\"width=device-width,initial-scale=1\"/>\n",
    "<link rel=\"stylesheet\" href=\"style.css\">\n",
    "\n",
    "\n",
    "# EDAF75 - lab 1: SQL\n",
    "\n",
    "This lab is meant to be run as a `jupyter` notebook, you could download it [here](lab1.zip) (the zip-file contains the notebook and the database, and a [.html-file](lab1.html) which you can read in case you have problems reading/running jupyter notebooks).\n",
    "\n",
    "To start your notebook, you can use the following commands (after you've downloaded [the zip file](lab1.zip) -- observe that the `$` is the shell prompt, you shouldn't type it):"
   ]
  },
  {
   "cell_type": "markdown",
   "id": "39c61bb7",
   "metadata": {},
   "source": [
    "```sh\n",
    "$ unzip lab1.zip\n",
    "$ jupyter notebook    # or jupyter lab\n",
    "```\n"
   ]
  },
  {
   "cell_type": "markdown",
   "id": "b239c0be",
   "metadata": {},
   "source": [
    "This should start jupyter in a browser tab, and there you can click \"lab1.ipynb\".\n",
    "\n",
    "\n",
    "# Background\n",
    "\n",
    "We have a database to handle the academic achievements of students at LTH -- in it we have four tables:\n",
    "\n",
    "<hr>\n",
    "<table rules=\"all\">\n",
    " <tr>\n",
    "  <th align=\"left\"><code>students:</code></th>\n",
    "  <th></th>\n",
    " </tr>\n",
    " <tr>\n",
    "  <td><code>ssn</code></td>\n",
    "  <td>social security number</td>\n",
    " </tr>\n",
    " <tr>\n",
    "  <td><code>first_name</code></td>\n",
    "  <td>first name (obviously!)</td>\n",
    " </tr>\n",
    " <tr>\n",
    "  <td><code>last_name</code></td>\n",
    "  <td>last name</td>\n",
    " </tr>\n",
    "</table>\n",
    "\n",
    "<hr>\n",
    "<table rules=\"all\">\n",
    " <tr>\n",
    "  <th align=\"left\"><code>departments:</code></th>\n",
    "  <th></th>\n",
    " </tr>\n",
    " <tr>\n",
    "  <td><code>department_code</code></td>\n",
    "  <td>unique code for each department</td>\n",
    " </tr>\n",
    " <tr>\n",
    "  <td><code>department_name</code></td>\n",
    "  <td>the name of the department, in Swedish</td>\n",
    " </tr>\n",
    "</table>\n",
    "\n",
    "<hr>\n",
    "<table rules=\"all\">\n",
    " <tr>\n",
    "  <th align=\"left\"><code>courses:</code></th>\n",
    "  <th></th>\n",
    " </tr>\n",
    " <tr>\n",
    "  <td><code>course_code</code></td>\n",
    "  <td>course code, like <code>EDAF75</code></td>\n",
    " </tr>\n",
    " <tr>\n",
    "  <td><code>course_name</code></td>\n",
    "  <td>the name of the course, in Swedish (like \"Databasteknik\")</td>\n",
    " </tr>\n",
    " <tr>\n",
    "  <td><code>department_code</code></td>\n",
    "  <td>the department giving the course</td>\n",
    " </tr>\n",
    " <tr>\n",
    "  <td><code>level</code></td>\n",
    "  <td>the course level, like \"G1\", \"G2\", or \"A\"</td>\n",
    " </tr>\n",
    " <tr>\n",
    "  <td><code>credits</code></td>\n",
    "  <td>the number of credits for the course, like 7.5</td>\n",
    " </tr>\n",
    "</table>\n",
    "\n",
    "<hr>\n",
    "<table rules=\"all\">\n",
    " <tr>\n",
    "  <th align=\"left\"><code>finished_courses:</code></th>\n",
    "  <th></th>\n",
    " </tr>\n",
    " <tr>\n",
    "  <td><code>ssn</code></td>\n",
    "  <td>the social security number of a student</td>\n",
    " </tr>\n",
    " <tr>\n",
    "  <td><code>course_code</code></td>\n",
    "  <td>the course code for the course the student has taken</td>\n",
    " </tr>\n",
    " <tr>\n",
    "  <td><code>grade</code></td>\n",
    "  <td>the grade for the student passing the course</td>\n",
    " </tr>\n",
    "</table>\n",
    "\n",
    "<hr>\n",
    "\n",
    "<center>\n",
    "  <img src=\"lab1-er.svg\">\n",
    "</center>\n",
    "\n",
    "Some sample data:"
   ]
  },
  {
   "cell_type": "markdown",
   "id": "4509e4a1",
   "metadata": {},
   "source": [
    "```text\n",
    "ssn           first_name   last_name\n",
    "---           ----------   ---------\n",
    "861103–2438   Bo           Ek\n",
    "911212–1746   Eva          Alm\n",
    "950829–1848   Anna         Nyström\n",
    "...           ...          ...\n",
    "\n",
    "department_code  department_name\n",
    "---------------  ----------------------------------------\n",
    "eda              Datavetenskap\n",
    "edi              Informationsteori\n",
    "eem              Elektrisk mätteknik\n",
    "eie              Industriell elektroteknik och automation\n",
    "...              ...\n",
    "\n",
    "course_code  course_name                         department_code  level  credits\n",
    "-----------  ----------------------------------  ---------------  -----  -------\n",
    "ETTN05       Adaptiv signalbehandling            eit              A      7.5\n",
    "FMAN10       Algebraiska strukturer              fma              A      7.5\n",
    "ETIN80       Algoritmer i signalprocessorer...   eit              A      7.5\n",
    "EDAF05       Algoritmer, datastrukturer och...   eda              G2     5.0\n",
    "...          ...                                 ...              ...    ...\n",
    "\n",
    "ssn           course_code   grade\n",
    "---           -----------   -----\n",
    "861103–2438   EDA016        4\n",
    "861103–2438   EDAA01        3\n",
    "911212–1746   EDA016        3\n",
    "...           ...           ...\n",
    "```\n"
   ]
  },
  {
   "cell_type": "markdown",
   "id": "ed7db1e7",
   "metadata": {},
   "source": [
    "The tables have been created with the following SQL\n",
    "statements:"
   ]
  },
  {
   "cell_type": "markdown",
   "id": "e7b9f167",
   "metadata": {},
   "source": [
    "```sql\n",
    "CREATE TABLE students (\n",
    "  ssn          CHAR(11),\n",
    "  first_name   TEXT NOT NULL,\n",
    "  last_name    TEXT NOT NULL,\n",
    "  PRIMARY KEY  (ssn)\n",
    ");\n",
    "\n",
    "CREATE TABLE departments (\n",
    "  department_code    TEXT,\n",
    "  department_name    TEXT,\n",
    "  PRIMARY KEY (department_code)\n",
    ");\n",
    "\n",
    "CREATE TABLE courses (\n",
    "  course_code      CHAR(6),\n",
    "  course_name      TEXT NOT NULL,\n",
    "  department_code  TEXT,\n",
    "  level            CHAR(2),\n",
    "  credits          DOUBLE NOT NULL CHECK (credits >= 0),\n",
    "  PRIMARY KEY      (course_code),\n",
    "  FOREIGN KEY      (department_code) REFERENCES departments(department_code)\n",
    ");\n",
    "\n",
    "CREATE TABLE finished_courses (\n",
    "  ssn           CHAR(11),\n",
    "  course_code   CHAR(6),\n",
    "  grade         INTEGER NOT NULL CHECK (grade >= 3 AND grade <= 5),\n",
    "  PRIMARY KEY   (ssn, course_code),\n",
    "  FOREIGN KEY   (ssn) REFERENCES students(ssn),\n",
    "  FOREIGN KEY   (course_code) REFERENCES courses(course_code)\n",
    ");\n",
    "```\n"
   ]
  },
  {
   "cell_type": "markdown",
   "id": "8d1950c1",
   "metadata": {},
   "source": [
    "All courses offered at the \"Computer Science and Engineering\" program at LTH during the academic year 2013/14 are in the table 'courses`. Also, the database has been filled with made up data. SQL statements like the following have been used to insert the data:"
   ]
  },
  {
   "cell_type": "markdown",
   "id": "431d06c8",
   "metadata": {},
   "source": [
    "```sql\n",
    "INTO   students(ssn, first_name, last_name)\n",
    "VALUES ('950705-2308', 'Anna', 'Johansson'),\n",
    "       ('930702-3582', 'Anna', 'Johansson'),\n",
    "       ('911212-1746', 'Eva', 'Alm'),\n",
    "       ('910707-3787', 'Eva', 'Nilsson'),\n",
    "       ...\n",
    "```\n"
   ]
  },
  {
   "cell_type": "markdown",
   "id": "5bdac1e3",
   "metadata": {},
   "source": [
    "The information about which departments gives which courses is somewhat haphazard (some of the departments in the database no longer exist, and some of them may never have existed).\n",
    "Our database assumes each course is given by a single department, in real life, departments can share courses -- if you want to practice what we're talking about in week 2 and week 3, try to come up with a modification of the database design, which allows departments to share courses (you can ask your TA about it during the lab session).\n",
    "\n",
    "\n",
    "# Assignments\n",
    "\n",
    "To pass this lab, you only need to show your solutions to the problems marked REVIEW below -- that's the only ones we'll be looking at during the lab sessions.\n",
    "You can skip the other problems at your own discretion, but I strongly recommend that you try them out, for practice.\n",
    "\n",
    "As said above, this lab is designed to be run as a jupyter notebook (either using =jupyter lab=, or =jupyter notebook=).\n",
    "If you haven't been able to get =jupyter= up and running on your computer, you can run the sql-commands for the problems below interactively inside =sqlite3=, or as a script file with all your commands, or inside some IDE, like [DB Browser for SQLite](https://sqlitebrowser.org/).\n",
    "\n",
    "If you're running the lab as a notebook (and hopefully you are!), evaluate the following cells before you begin:"
   ]
  },
  {
   "cell_type": "code",
   "execution_count": 2,
   "id": "da948cb4",
   "metadata": {},
   "outputs": [],
   "source": [
    "%load_ext sql"
   ]
  },
  {
   "cell_type": "code",
   "execution_count": 3,
   "id": "e1c6891e",
   "metadata": {},
   "outputs": [],
   "source": [
    "%sql sqlite:///lab1.sqlite"
   ]
  },
  {
   "cell_type": "markdown",
   "id": "e29a8639",
   "metadata": {},
   "source": [
    "--------------------------------\n",
    "Jump to [REVIEW problems](#review_problems)\n",
    "--------------------------------\n",
    "\n",
    "The tables `students`, `departments`, `courses` and `finished_courses` are already in your database, you can see some of their contents by running the cells below:"
   ]
  },
  {
   "cell_type": "code",
   "execution_count": 3,
   "id": "8316eb6e",
   "metadata": {},
   "outputs": [
    {
     "name": "stdout",
     "output_type": "stream",
     "text": [
      " * sqlite:///lab1.sqlite\n",
      "Done.\n"
     ]
    },
    {
     "data": {
      "text/html": [
       "<table>\n",
       "    <thead>\n",
       "        <tr>\n",
       "            <th>ssn</th>\n",
       "            <th>first_name</th>\n",
       "            <th>last_name</th>\n",
       "        </tr>\n",
       "    </thead>\n",
       "    <tbody>\n",
       "        <tr>\n",
       "            <td>950705-2308</td>\n",
       "            <td>Anna</td>\n",
       "            <td>Johansson</td>\n",
       "        </tr>\n",
       "        <tr>\n",
       "            <td>930702-3582</td>\n",
       "            <td>Anna</td>\n",
       "            <td>Johansson</td>\n",
       "        </tr>\n",
       "        <tr>\n",
       "            <td>911212-1746</td>\n",
       "            <td>Eva</td>\n",
       "            <td>Alm</td>\n",
       "        </tr>\n",
       "        <tr>\n",
       "            <td>910707-3787</td>\n",
       "            <td>Eva</td>\n",
       "            <td>Nilsson</td>\n",
       "        </tr>\n",
       "    </tbody>\n",
       "</table>"
      ],
      "text/plain": [
       "[('950705-2308', 'Anna', 'Johansson'),\n",
       " ('930702-3582', 'Anna', 'Johansson'),\n",
       " ('911212-1746', 'Eva', 'Alm'),\n",
       " ('910707-3787', 'Eva', 'Nilsson')]"
      ]
     },
     "execution_count": 3,
     "metadata": {},
     "output_type": "execute_result"
    }
   ],
   "source": [
    "%%sql\n",
    "SELECT  *\n",
    "FROM    students\n",
    "LIMIT   4"
   ]
  },
  {
   "cell_type": "code",
   "execution_count": 4,
   "id": "467a14c2",
   "metadata": {},
   "outputs": [
    {
     "name": "stdout",
     "output_type": "stream",
     "text": [
      " * sqlite:///lab1.sqlite\n",
      "Done.\n"
     ]
    },
    {
     "data": {
      "text/html": [
       "<table>\n",
       "    <thead>\n",
       "        <tr>\n",
       "            <th>department_code</th>\n",
       "            <th>department_name</th>\n",
       "        </tr>\n",
       "    </thead>\n",
       "    <tbody>\n",
       "        <tr>\n",
       "            <td>eda</td>\n",
       "            <td>Datavetenskap</td>\n",
       "        </tr>\n",
       "        <tr>\n",
       "            <td>edi</td>\n",
       "            <td>Informationsteori</td>\n",
       "        </tr>\n",
       "        <tr>\n",
       "            <td>eem</td>\n",
       "            <td>Elektrisk mätteknik</td>\n",
       "        </tr>\n",
       "        <tr>\n",
       "            <td>eie</td>\n",
       "            <td>Industriell elektroteknik och automation</td>\n",
       "        </tr>\n",
       "    </tbody>\n",
       "</table>"
      ],
      "text/plain": [
       "[('eda', 'Datavetenskap'),\n",
       " ('edi', 'Informationsteori'),\n",
       " ('eem', 'Elektrisk mätteknik'),\n",
       " ('eie', 'Industriell elektroteknik och automation')]"
      ]
     },
     "execution_count": 4,
     "metadata": {},
     "output_type": "execute_result"
    }
   ],
   "source": [
    "%%sql\n",
    "SELECT  *\n",
    "FROM    departments\n",
    "LIMIT   4"
   ]
  },
  {
   "cell_type": "code",
   "execution_count": 5,
   "id": "55877425",
   "metadata": {},
   "outputs": [
    {
     "name": "stdout",
     "output_type": "stream",
     "text": [
      " * sqlite:///lab1.sqlite\n",
      "Done.\n"
     ]
    },
    {
     "data": {
      "text/html": [
       "<table>\n",
       "    <thead>\n",
       "        <tr>\n",
       "            <th>course_code</th>\n",
       "            <th>course_name</th>\n",
       "            <th>department_code</th>\n",
       "            <th>level</th>\n",
       "            <th>credits</th>\n",
       "        </tr>\n",
       "    </thead>\n",
       "    <tbody>\n",
       "        <tr>\n",
       "            <td>EDA016</td>\n",
       "            <td>Programmeringsteknik</td>\n",
       "            <td>eda</td>\n",
       "            <td>G1</td>\n",
       "            <td>7.5</td>\n",
       "        </tr>\n",
       "        <tr>\n",
       "            <td>EDA031</td>\n",
       "            <td>C++ - programmering</td>\n",
       "            <td>eda</td>\n",
       "            <td>G2</td>\n",
       "            <td>7.5</td>\n",
       "        </tr>\n",
       "        <tr>\n",
       "            <td>EDA040</td>\n",
       "            <td>Realtidsprogrammering</td>\n",
       "            <td>eda</td>\n",
       "            <td>G2</td>\n",
       "            <td>6.0</td>\n",
       "        </tr>\n",
       "        <tr>\n",
       "            <td>EDA050</td>\n",
       "            <td>Operativsystem</td>\n",
       "            <td>eda</td>\n",
       "            <td>G2</td>\n",
       "            <td>4.5</td>\n",
       "        </tr>\n",
       "    </tbody>\n",
       "</table>"
      ],
      "text/plain": [
       "[('EDA016', 'Programmeringsteknik', 'eda', 'G1', 7.5),\n",
       " ('EDA031', 'C++ - programmering', 'eda', 'G2', 7.5),\n",
       " ('EDA040', 'Realtidsprogrammering', 'eda', 'G2', 6.0),\n",
       " ('EDA050', 'Operativsystem', 'eda', 'G2', 4.5)]"
      ]
     },
     "execution_count": 5,
     "metadata": {},
     "output_type": "execute_result"
    }
   ],
   "source": [
    "%%sql\n",
    "SELECT  *\n",
    "FROM    courses\n",
    "LIMIT   4"
   ]
  },
  {
   "cell_type": "code",
   "execution_count": 6,
   "id": "f119b58e",
   "metadata": {},
   "outputs": [
    {
     "name": "stdout",
     "output_type": "stream",
     "text": [
      " * sqlite:///lab1.sqlite\n",
      "Done.\n"
     ]
    },
    {
     "data": {
      "text/html": [
       "<table>\n",
       "    <thead>\n",
       "        <tr>\n",
       "            <th>ssn</th>\n",
       "            <th>course_code</th>\n",
       "            <th>grade</th>\n",
       "        </tr>\n",
       "    </thead>\n",
       "    <tbody>\n",
       "        <tr>\n",
       "            <td>950705-2308</td>\n",
       "            <td>EITN35</td>\n",
       "            <td>5</td>\n",
       "        </tr>\n",
       "        <tr>\n",
       "            <td>950705-2308</td>\n",
       "            <td>ESS050</td>\n",
       "            <td>3</td>\n",
       "        </tr>\n",
       "        <tr>\n",
       "            <td>950705-2308</td>\n",
       "            <td>ETIN70</td>\n",
       "            <td>4</td>\n",
       "        </tr>\n",
       "        <tr>\n",
       "            <td>950705-2308</td>\n",
       "            <td>FMA140</td>\n",
       "            <td>4</td>\n",
       "        </tr>\n",
       "    </tbody>\n",
       "</table>"
      ],
      "text/plain": [
       "[('950705-2308', 'EITN35', 5),\n",
       " ('950705-2308', 'ESS050', 3),\n",
       " ('950705-2308', 'ETIN70', 4),\n",
       " ('950705-2308', 'FMA140', 4)]"
      ]
     },
     "execution_count": 6,
     "metadata": {},
     "output_type": "execute_result"
    }
   ],
   "source": [
    "%%sql\n",
    "SELECT  *\n",
    "FROM    finished_courses\n",
    "LIMIT   4"
   ]
  },
  {
   "cell_type": "markdown",
   "id": "6748bf6f",
   "metadata": {},
   "source": [
    "If you inadvertently change the contents of the tables, you can always recreate the them with the following command (it must be run at the command line):"
   ]
  },
  {
   "cell_type": "markdown",
   "id": "65ce3832",
   "metadata": {},
   "source": [
    "```sh\n",
    "$ sqlite3 lab1.sqlite < lab1-setup.sql\n",
    "```\n"
   ]
  },
  {
   "cell_type": "markdown",
   "id": "5a6738dd",
   "metadata": {},
   "source": [
    "## Practice problems\n",
    "\n",
    "<a id='problem_1'></a>\n",
    "\n",
    "### Problem 1 (practice)\n",
    "\n",
    "What are the names (first name and last name) of all the students?"
   ]
  },
  {
   "cell_type": "code",
   "execution_count": 8,
   "id": "a0273c54",
   "metadata": {},
   "outputs": [
    {
     "name": "stdout",
     "output_type": "stream",
     "text": [
      " * sqlite:///lab1.sqlite\n",
      "Done.\n"
     ]
    },
    {
     "data": {
      "text/html": [
       "<table>\n",
       "    <thead>\n",
       "        <tr>\n",
       "            <th>first_name</th>\n",
       "            <th>last_name</th>\n",
       "        </tr>\n",
       "    </thead>\n",
       "    <tbody>\n",
       "        <tr>\n",
       "            <td>Anna</td>\n",
       "            <td>Johansson</td>\n",
       "        </tr>\n",
       "        <tr>\n",
       "            <td>Eva</td>\n",
       "            <td>Alm</td>\n",
       "        </tr>\n",
       "        <tr>\n",
       "            <td>Eva</td>\n",
       "            <td>Nilsson</td>\n",
       "        </tr>\n",
       "        <tr>\n",
       "            <td>Elaine</td>\n",
       "            <td>Robertson</td>\n",
       "        </tr>\n",
       "        <tr>\n",
       "            <td>Maria</td>\n",
       "            <td>Nordman</td>\n",
       "        </tr>\n",
       "        <tr>\n",
       "            <td>Helena</td>\n",
       "            <td>Troberg</td>\n",
       "        </tr>\n",
       "        <tr>\n",
       "            <td>Lotta</td>\n",
       "            <td>Emanuelsson</td>\n",
       "        </tr>\n",
       "        <tr>\n",
       "            <td>Anna</td>\n",
       "            <td>Nyström</td>\n",
       "        </tr>\n",
       "        <tr>\n",
       "            <td>Maria</td>\n",
       "            <td>Andersson</td>\n",
       "        </tr>\n",
       "        <tr>\n",
       "            <td>Marie</td>\n",
       "            <td>Persson</td>\n",
       "        </tr>\n",
       "        <tr>\n",
       "            <td>Märit</td>\n",
       "            <td>Aspegren</td>\n",
       "        </tr>\n",
       "        <tr>\n",
       "            <td>Ylva</td>\n",
       "            <td>Jacobsson</td>\n",
       "        </tr>\n",
       "        <tr>\n",
       "            <td>Frida</td>\n",
       "            <td>Weidel</td>\n",
       "        </tr>\n",
       "        <tr>\n",
       "            <td>Caroline</td>\n",
       "            <td>Olsson</td>\n",
       "        </tr>\n",
       "        <tr>\n",
       "            <td>Karolin</td>\n",
       "            <td>Ek</td>\n",
       "        </tr>\n",
       "        <tr>\n",
       "            <td>Eva</td>\n",
       "            <td>Hjort</td>\n",
       "        </tr>\n",
       "        <tr>\n",
       "            <td>Sofia</td>\n",
       "            <td>Kjellberg</td>\n",
       "        </tr>\n",
       "        <tr>\n",
       "            <td>Tina</td>\n",
       "            <td>Lööf</td>\n",
       "        </tr>\n",
       "        <tr>\n",
       "            <td>Lisa</td>\n",
       "            <td>Berg</td>\n",
       "        </tr>\n",
       "        <tr>\n",
       "            <td>Lotta</td>\n",
       "            <td>Bergman</td>\n",
       "        </tr>\n",
       "        <tr>\n",
       "            <td>Susanne</td>\n",
       "            <td>Dahl</td>\n",
       "        </tr>\n",
       "        <tr>\n",
       "            <td>Birgit</td>\n",
       "            <td>Ewesson</td>\n",
       "        </tr>\n",
       "        <tr>\n",
       "            <td>Ulrika</td>\n",
       "            <td>Jonsson</td>\n",
       "        </tr>\n",
       "        <tr>\n",
       "            <td>Jenny</td>\n",
       "            <td>Lundin</td>\n",
       "        </tr>\n",
       "        <tr>\n",
       "            <td>Karin</td>\n",
       "            <td>Östberg</td>\n",
       "        </tr>\n",
       "        <tr>\n",
       "            <td>Bo</td>\n",
       "            <td>Ek</td>\n",
       "        </tr>\n",
       "        <tr>\n",
       "            <td>Erik</td>\n",
       "            <td>Andersson</td>\n",
       "        </tr>\n",
       "        <tr>\n",
       "            <td>Filip</td>\n",
       "            <td>Gustavsson</td>\n",
       "        </tr>\n",
       "        <tr>\n",
       "            <td>Niklas</td>\n",
       "            <td>Andersson</td>\n",
       "        </tr>\n",
       "        <tr>\n",
       "            <td>David</td>\n",
       "            <td>Carlsson</td>\n",
       "        </tr>\n",
       "        <tr>\n",
       "            <td>Tobias</td>\n",
       "            <td>Enberg</td>\n",
       "        </tr>\n",
       "        <tr>\n",
       "            <td>Johan</td>\n",
       "            <td>Lind</td>\n",
       "        </tr>\n",
       "        <tr>\n",
       "            <td>Magnus</td>\n",
       "            <td>Pettersson</td>\n",
       "        </tr>\n",
       "        <tr>\n",
       "            <td>Filip</td>\n",
       "            <td>Persson</td>\n",
       "        </tr>\n",
       "        <tr>\n",
       "            <td>Ola</td>\n",
       "            <td>Nilsson</td>\n",
       "        </tr>\n",
       "        <tr>\n",
       "            <td>Jakob</td>\n",
       "            <td>Malmberg</td>\n",
       "        </tr>\n",
       "        <tr>\n",
       "            <td>Henrik</td>\n",
       "            <td>Berg</td>\n",
       "        </tr>\n",
       "        <tr>\n",
       "            <td>John</td>\n",
       "            <td>Lind</td>\n",
       "        </tr>\n",
       "        <tr>\n",
       "            <td>Patrik</td>\n",
       "            <td>Lundh</td>\n",
       "        </tr>\n",
       "        <tr>\n",
       "            <td>Mikael</td>\n",
       "            <td>Nilsson</td>\n",
       "        </tr>\n",
       "        <tr>\n",
       "            <td>Joakim</td>\n",
       "            <td>Nilsson</td>\n",
       "        </tr>\n",
       "        <tr>\n",
       "            <td>Conny</td>\n",
       "            <td>Modig</td>\n",
       "        </tr>\n",
       "        <tr>\n",
       "            <td>Christian</td>\n",
       "            <td>Wallman</td>\n",
       "        </tr>\n",
       "        <tr>\n",
       "            <td>Magnus</td>\n",
       "            <td>Strömgren</td>\n",
       "        </tr>\n",
       "        <tr>\n",
       "            <td>Daniel</td>\n",
       "            <td>Ahlman</td>\n",
       "        </tr>\n",
       "        <tr>\n",
       "            <td>Lars</td>\n",
       "            <td>Molin</td>\n",
       "        </tr>\n",
       "        <tr>\n",
       "            <td>Magnus</td>\n",
       "            <td>Nilsson</td>\n",
       "        </tr>\n",
       "        <tr>\n",
       "            <td>Anders</td>\n",
       "            <td>Olsson</td>\n",
       "        </tr>\n",
       "        <tr>\n",
       "            <td>Martin</td>\n",
       "            <td>Alm</td>\n",
       "        </tr>\n",
       "        <tr>\n",
       "            <td>Håkan</td>\n",
       "            <td>Mossgren</td>\n",
       "        </tr>\n",
       "        <tr>\n",
       "            <td>Fredrik</td>\n",
       "            <td>Ryd</td>\n",
       "        </tr>\n",
       "        <tr>\n",
       "            <td>Mats</td>\n",
       "            <td>Wikström</td>\n",
       "        </tr>\n",
       "        <tr>\n",
       "            <td>Anders</td>\n",
       "            <td>Magnusson</td>\n",
       "        </tr>\n",
       "        <tr>\n",
       "            <td>Andreas</td>\n",
       "            <td>Molin</td>\n",
       "        </tr>\n",
       "        <tr>\n",
       "            <td>Johan</td>\n",
       "            <td>Brattberg</td>\n",
       "        </tr>\n",
       "        <tr>\n",
       "            <td>Johan</td>\n",
       "            <td>Olsson</td>\n",
       "        </tr>\n",
       "        <tr>\n",
       "            <td>Jonathan</td>\n",
       "            <td>Jönsson</td>\n",
       "        </tr>\n",
       "        <tr>\n",
       "            <td>Magnus</td>\n",
       "            <td>Hultgren</td>\n",
       "        </tr>\n",
       "        <tr>\n",
       "            <td>Axel</td>\n",
       "            <td>Nord</td>\n",
       "        </tr>\n",
       "        <tr>\n",
       "            <td>Henrik</td>\n",
       "            <td>Hult</td>\n",
       "        </tr>\n",
       "        <tr>\n",
       "            <td>Joakim</td>\n",
       "            <td>Hall</td>\n",
       "        </tr>\n",
       "        <tr>\n",
       "            <td>Henrik</td>\n",
       "            <td>Gustavsson</td>\n",
       "        </tr>\n",
       "        <tr>\n",
       "            <td>Torbjörn</td>\n",
       "            <td>Modig</td>\n",
       "        </tr>\n",
       "        <tr>\n",
       "            <td>Daniel</td>\n",
       "            <td>Axelsson</td>\n",
       "        </tr>\n",
       "        <tr>\n",
       "            <td>Per-Erik</td>\n",
       "            <td>Pettersson</td>\n",
       "        </tr>\n",
       "        <tr>\n",
       "            <td>Roger</td>\n",
       "            <td>Brorsson</td>\n",
       "        </tr>\n",
       "        <tr>\n",
       "            <td>Patrik</td>\n",
       "            <td>Ohlsson</td>\n",
       "        </tr>\n",
       "        <tr>\n",
       "            <td>Peter</td>\n",
       "            <td>Solberg</td>\n",
       "        </tr>\n",
       "    </tbody>\n",
       "</table>"
      ],
      "text/plain": [
       "[('Anna', 'Johansson'),\n",
       " ('Eva', 'Alm'),\n",
       " ('Eva', 'Nilsson'),\n",
       " ('Elaine', 'Robertson'),\n",
       " ('Maria', 'Nordman'),\n",
       " ('Helena', 'Troberg'),\n",
       " ('Lotta', 'Emanuelsson'),\n",
       " ('Anna', 'Nyström'),\n",
       " ('Maria', 'Andersson'),\n",
       " ('Marie', 'Persson'),\n",
       " ('Märit', 'Aspegren'),\n",
       " ('Ylva', 'Jacobsson'),\n",
       " ('Frida', 'Weidel'),\n",
       " ('Caroline', 'Olsson'),\n",
       " ('Karolin', 'Ek'),\n",
       " ('Eva', 'Hjort'),\n",
       " ('Sofia', 'Kjellberg'),\n",
       " ('Tina', 'Lööf'),\n",
       " ('Lisa', 'Berg'),\n",
       " ('Lotta', 'Bergman'),\n",
       " ('Susanne', 'Dahl'),\n",
       " ('Birgit', 'Ewesson'),\n",
       " ('Ulrika', 'Jonsson'),\n",
       " ('Jenny', 'Lundin'),\n",
       " ('Karin', 'Östberg'),\n",
       " ('Bo', 'Ek'),\n",
       " ('Erik', 'Andersson'),\n",
       " ('Filip', 'Gustavsson'),\n",
       " ('Niklas', 'Andersson'),\n",
       " ('David', 'Carlsson'),\n",
       " ('Tobias', 'Enberg'),\n",
       " ('Johan', 'Lind'),\n",
       " ('Magnus', 'Pettersson'),\n",
       " ('Filip', 'Persson'),\n",
       " ('Ola', 'Nilsson'),\n",
       " ('Jakob', 'Malmberg'),\n",
       " ('Henrik', 'Berg'),\n",
       " ('John', 'Lind'),\n",
       " ('Patrik', 'Lundh'),\n",
       " ('Mikael', 'Nilsson'),\n",
       " ('Joakim', 'Nilsson'),\n",
       " ('Conny', 'Modig'),\n",
       " ('Christian', 'Wallman'),\n",
       " ('Magnus', 'Strömgren'),\n",
       " ('Daniel', 'Ahlman'),\n",
       " ('Lars', 'Molin'),\n",
       " ('Magnus', 'Nilsson'),\n",
       " ('Anders', 'Olsson'),\n",
       " ('Martin', 'Alm'),\n",
       " ('Håkan', 'Mossgren'),\n",
       " ('Fredrik', 'Ryd'),\n",
       " ('Mats', 'Wikström'),\n",
       " ('Anders', 'Magnusson'),\n",
       " ('Andreas', 'Molin'),\n",
       " ('Johan', 'Brattberg'),\n",
       " ('Johan', 'Olsson'),\n",
       " ('Jonathan', 'Jönsson'),\n",
       " ('Magnus', 'Hultgren'),\n",
       " ('Axel', 'Nord'),\n",
       " ('Henrik', 'Hult'),\n",
       " ('Joakim', 'Hall'),\n",
       " ('Henrik', 'Gustavsson'),\n",
       " ('Torbjörn', 'Modig'),\n",
       " ('Daniel', 'Axelsson'),\n",
       " ('Per-Erik', 'Pettersson'),\n",
       " ('Roger', 'Brorsson'),\n",
       " ('Patrik', 'Ohlsson'),\n",
       " ('Peter', 'Solberg')]"
      ]
     },
     "execution_count": 8,
     "metadata": {},
     "output_type": "execute_result"
    }
   ],
   "source": [
    "%%sql\n",
    "SELECT DISTINCT first_name, last_name\n",
    "FROM students"
   ]
  },
  {
   "cell_type": "markdown",
   "id": "4b2c64a2",
   "metadata": {},
   "source": [
    "Now sort the names, first by last name and then by first name:"
   ]
  },
  {
   "cell_type": "code",
   "execution_count": 10,
   "id": "a3f23c2b",
   "metadata": {
    "attributes": {
     "classes": [
      "clear"
     ],
     "id": ""
    }
   },
   "outputs": [
    {
     "name": "stdout",
     "output_type": "stream",
     "text": [
      " * sqlite:///lab1.sqlite\n",
      "Done.\n"
     ]
    },
    {
     "data": {
      "text/html": [
       "<table>\n",
       "    <thead>\n",
       "        <tr>\n",
       "            <th>first_name</th>\n",
       "            <th>last_name</th>\n",
       "        </tr>\n",
       "    </thead>\n",
       "    <tbody>\n",
       "        <tr>\n",
       "            <td>Anders</td>\n",
       "            <td>Magnusson</td>\n",
       "        </tr>\n",
       "        <tr>\n",
       "            <td>Anders</td>\n",
       "            <td>Olsson</td>\n",
       "        </tr>\n",
       "        <tr>\n",
       "            <td>Andreas</td>\n",
       "            <td>Molin</td>\n",
       "        </tr>\n",
       "        <tr>\n",
       "            <td>Anna</td>\n",
       "            <td>Johansson</td>\n",
       "        </tr>\n",
       "        <tr>\n",
       "            <td>Anna</td>\n",
       "            <td>Nyström</td>\n",
       "        </tr>\n",
       "        <tr>\n",
       "            <td>Axel</td>\n",
       "            <td>Nord</td>\n",
       "        </tr>\n",
       "        <tr>\n",
       "            <td>Birgit</td>\n",
       "            <td>Ewesson</td>\n",
       "        </tr>\n",
       "        <tr>\n",
       "            <td>Bo</td>\n",
       "            <td>Ek</td>\n",
       "        </tr>\n",
       "        <tr>\n",
       "            <td>Caroline</td>\n",
       "            <td>Olsson</td>\n",
       "        </tr>\n",
       "        <tr>\n",
       "            <td>Christian</td>\n",
       "            <td>Wallman</td>\n",
       "        </tr>\n",
       "        <tr>\n",
       "            <td>Conny</td>\n",
       "            <td>Modig</td>\n",
       "        </tr>\n",
       "        <tr>\n",
       "            <td>Daniel</td>\n",
       "            <td>Ahlman</td>\n",
       "        </tr>\n",
       "        <tr>\n",
       "            <td>Daniel</td>\n",
       "            <td>Axelsson</td>\n",
       "        </tr>\n",
       "        <tr>\n",
       "            <td>David</td>\n",
       "            <td>Carlsson</td>\n",
       "        </tr>\n",
       "        <tr>\n",
       "            <td>Elaine</td>\n",
       "            <td>Robertson</td>\n",
       "        </tr>\n",
       "        <tr>\n",
       "            <td>Erik</td>\n",
       "            <td>Andersson</td>\n",
       "        </tr>\n",
       "        <tr>\n",
       "            <td>Eva</td>\n",
       "            <td>Alm</td>\n",
       "        </tr>\n",
       "        <tr>\n",
       "            <td>Eva</td>\n",
       "            <td>Hjort</td>\n",
       "        </tr>\n",
       "        <tr>\n",
       "            <td>Eva</td>\n",
       "            <td>Nilsson</td>\n",
       "        </tr>\n",
       "        <tr>\n",
       "            <td>Filip</td>\n",
       "            <td>Gustavsson</td>\n",
       "        </tr>\n",
       "        <tr>\n",
       "            <td>Filip</td>\n",
       "            <td>Persson</td>\n",
       "        </tr>\n",
       "        <tr>\n",
       "            <td>Fredrik</td>\n",
       "            <td>Ryd</td>\n",
       "        </tr>\n",
       "        <tr>\n",
       "            <td>Frida</td>\n",
       "            <td>Weidel</td>\n",
       "        </tr>\n",
       "        <tr>\n",
       "            <td>Helena</td>\n",
       "            <td>Troberg</td>\n",
       "        </tr>\n",
       "        <tr>\n",
       "            <td>Henrik</td>\n",
       "            <td>Berg</td>\n",
       "        </tr>\n",
       "        <tr>\n",
       "            <td>Henrik</td>\n",
       "            <td>Gustavsson</td>\n",
       "        </tr>\n",
       "        <tr>\n",
       "            <td>Henrik</td>\n",
       "            <td>Hult</td>\n",
       "        </tr>\n",
       "        <tr>\n",
       "            <td>Håkan</td>\n",
       "            <td>Mossgren</td>\n",
       "        </tr>\n",
       "        <tr>\n",
       "            <td>Jakob</td>\n",
       "            <td>Malmberg</td>\n",
       "        </tr>\n",
       "        <tr>\n",
       "            <td>Jenny</td>\n",
       "            <td>Lundin</td>\n",
       "        </tr>\n",
       "        <tr>\n",
       "            <td>Joakim</td>\n",
       "            <td>Hall</td>\n",
       "        </tr>\n",
       "        <tr>\n",
       "            <td>Joakim</td>\n",
       "            <td>Nilsson</td>\n",
       "        </tr>\n",
       "        <tr>\n",
       "            <td>Johan</td>\n",
       "            <td>Brattberg</td>\n",
       "        </tr>\n",
       "        <tr>\n",
       "            <td>Johan</td>\n",
       "            <td>Lind</td>\n",
       "        </tr>\n",
       "        <tr>\n",
       "            <td>Johan</td>\n",
       "            <td>Olsson</td>\n",
       "        </tr>\n",
       "        <tr>\n",
       "            <td>John</td>\n",
       "            <td>Lind</td>\n",
       "        </tr>\n",
       "        <tr>\n",
       "            <td>Jonathan</td>\n",
       "            <td>Jönsson</td>\n",
       "        </tr>\n",
       "        <tr>\n",
       "            <td>Karin</td>\n",
       "            <td>Östberg</td>\n",
       "        </tr>\n",
       "        <tr>\n",
       "            <td>Karolin</td>\n",
       "            <td>Ek</td>\n",
       "        </tr>\n",
       "        <tr>\n",
       "            <td>Lars</td>\n",
       "            <td>Molin</td>\n",
       "        </tr>\n",
       "        <tr>\n",
       "            <td>Lisa</td>\n",
       "            <td>Berg</td>\n",
       "        </tr>\n",
       "        <tr>\n",
       "            <td>Lotta</td>\n",
       "            <td>Bergman</td>\n",
       "        </tr>\n",
       "        <tr>\n",
       "            <td>Lotta</td>\n",
       "            <td>Emanuelsson</td>\n",
       "        </tr>\n",
       "        <tr>\n",
       "            <td>Magnus</td>\n",
       "            <td>Hultgren</td>\n",
       "        </tr>\n",
       "        <tr>\n",
       "            <td>Magnus</td>\n",
       "            <td>Nilsson</td>\n",
       "        </tr>\n",
       "        <tr>\n",
       "            <td>Magnus</td>\n",
       "            <td>Pettersson</td>\n",
       "        </tr>\n",
       "        <tr>\n",
       "            <td>Magnus</td>\n",
       "            <td>Strömgren</td>\n",
       "        </tr>\n",
       "        <tr>\n",
       "            <td>Maria</td>\n",
       "            <td>Andersson</td>\n",
       "        </tr>\n",
       "        <tr>\n",
       "            <td>Maria</td>\n",
       "            <td>Nordman</td>\n",
       "        </tr>\n",
       "        <tr>\n",
       "            <td>Marie</td>\n",
       "            <td>Persson</td>\n",
       "        </tr>\n",
       "        <tr>\n",
       "            <td>Martin</td>\n",
       "            <td>Alm</td>\n",
       "        </tr>\n",
       "        <tr>\n",
       "            <td>Mats</td>\n",
       "            <td>Wikström</td>\n",
       "        </tr>\n",
       "        <tr>\n",
       "            <td>Mikael</td>\n",
       "            <td>Nilsson</td>\n",
       "        </tr>\n",
       "        <tr>\n",
       "            <td>Märit</td>\n",
       "            <td>Aspegren</td>\n",
       "        </tr>\n",
       "        <tr>\n",
       "            <td>Niklas</td>\n",
       "            <td>Andersson</td>\n",
       "        </tr>\n",
       "        <tr>\n",
       "            <td>Ola</td>\n",
       "            <td>Nilsson</td>\n",
       "        </tr>\n",
       "        <tr>\n",
       "            <td>Patrik</td>\n",
       "            <td>Lundh</td>\n",
       "        </tr>\n",
       "        <tr>\n",
       "            <td>Patrik</td>\n",
       "            <td>Ohlsson</td>\n",
       "        </tr>\n",
       "        <tr>\n",
       "            <td>Per-Erik</td>\n",
       "            <td>Pettersson</td>\n",
       "        </tr>\n",
       "        <tr>\n",
       "            <td>Peter</td>\n",
       "            <td>Solberg</td>\n",
       "        </tr>\n",
       "        <tr>\n",
       "            <td>Roger</td>\n",
       "            <td>Brorsson</td>\n",
       "        </tr>\n",
       "        <tr>\n",
       "            <td>Sofia</td>\n",
       "            <td>Kjellberg</td>\n",
       "        </tr>\n",
       "        <tr>\n",
       "            <td>Susanne</td>\n",
       "            <td>Dahl</td>\n",
       "        </tr>\n",
       "        <tr>\n",
       "            <td>Tina</td>\n",
       "            <td>Lööf</td>\n",
       "        </tr>\n",
       "        <tr>\n",
       "            <td>Tobias</td>\n",
       "            <td>Enberg</td>\n",
       "        </tr>\n",
       "        <tr>\n",
       "            <td>Torbjörn</td>\n",
       "            <td>Modig</td>\n",
       "        </tr>\n",
       "        <tr>\n",
       "            <td>Ulrika</td>\n",
       "            <td>Jonsson</td>\n",
       "        </tr>\n",
       "        <tr>\n",
       "            <td>Ylva</td>\n",
       "            <td>Jacobsson</td>\n",
       "        </tr>\n",
       "    </tbody>\n",
       "</table>"
      ],
      "text/plain": [
       "[('Anders', 'Magnusson'),\n",
       " ('Anders', 'Olsson'),\n",
       " ('Andreas', 'Molin'),\n",
       " ('Anna', 'Johansson'),\n",
       " ('Anna', 'Nyström'),\n",
       " ('Axel', 'Nord'),\n",
       " ('Birgit', 'Ewesson'),\n",
       " ('Bo', 'Ek'),\n",
       " ('Caroline', 'Olsson'),\n",
       " ('Christian', 'Wallman'),\n",
       " ('Conny', 'Modig'),\n",
       " ('Daniel', 'Ahlman'),\n",
       " ('Daniel', 'Axelsson'),\n",
       " ('David', 'Carlsson'),\n",
       " ('Elaine', 'Robertson'),\n",
       " ('Erik', 'Andersson'),\n",
       " ('Eva', 'Alm'),\n",
       " ('Eva', 'Hjort'),\n",
       " ('Eva', 'Nilsson'),\n",
       " ('Filip', 'Gustavsson'),\n",
       " ('Filip', 'Persson'),\n",
       " ('Fredrik', 'Ryd'),\n",
       " ('Frida', 'Weidel'),\n",
       " ('Helena', 'Troberg'),\n",
       " ('Henrik', 'Berg'),\n",
       " ('Henrik', 'Gustavsson'),\n",
       " ('Henrik', 'Hult'),\n",
       " ('Håkan', 'Mossgren'),\n",
       " ('Jakob', 'Malmberg'),\n",
       " ('Jenny', 'Lundin'),\n",
       " ('Joakim', 'Hall'),\n",
       " ('Joakim', 'Nilsson'),\n",
       " ('Johan', 'Brattberg'),\n",
       " ('Johan', 'Lind'),\n",
       " ('Johan', 'Olsson'),\n",
       " ('John', 'Lind'),\n",
       " ('Jonathan', 'Jönsson'),\n",
       " ('Karin', 'Östberg'),\n",
       " ('Karolin', 'Ek'),\n",
       " ('Lars', 'Molin'),\n",
       " ('Lisa', 'Berg'),\n",
       " ('Lotta', 'Bergman'),\n",
       " ('Lotta', 'Emanuelsson'),\n",
       " ('Magnus', 'Hultgren'),\n",
       " ('Magnus', 'Nilsson'),\n",
       " ('Magnus', 'Pettersson'),\n",
       " ('Magnus', 'Strömgren'),\n",
       " ('Maria', 'Andersson'),\n",
       " ('Maria', 'Nordman'),\n",
       " ('Marie', 'Persson'),\n",
       " ('Martin', 'Alm'),\n",
       " ('Mats', 'Wikström'),\n",
       " ('Mikael', 'Nilsson'),\n",
       " ('Märit', 'Aspegren'),\n",
       " ('Niklas', 'Andersson'),\n",
       " ('Ola', 'Nilsson'),\n",
       " ('Patrik', 'Lundh'),\n",
       " ('Patrik', 'Ohlsson'),\n",
       " ('Per-Erik', 'Pettersson'),\n",
       " ('Peter', 'Solberg'),\n",
       " ('Roger', 'Brorsson'),\n",
       " ('Sofia', 'Kjellberg'),\n",
       " ('Susanne', 'Dahl'),\n",
       " ('Tina', 'Lööf'),\n",
       " ('Tobias', 'Enberg'),\n",
       " ('Torbjörn', 'Modig'),\n",
       " ('Ulrika', 'Jonsson'),\n",
       " ('Ylva', 'Jacobsson')]"
      ]
     },
     "execution_count": 10,
     "metadata": {},
     "output_type": "execute_result"
    }
   ],
   "source": [
    "%%sql\n",
    "SELECT DISTINCT first_name, last_name\n",
    "FROM students\n",
    "ORDER BY first_name, last_name"
   ]
  },
  {
   "cell_type": "markdown",
   "id": "ddca45cd",
   "metadata": {},
   "source": [
    "When you get it to work, experiment by listing only the 10 first students (alphabetically), then try to list only students 11-20, etc.:"
   ]
  },
  {
   "cell_type": "code",
   "execution_count": 13,
   "id": "7aa71669",
   "metadata": {
    "attributes": {
     "classes": [
      "clear"
     ],
     "id": ""
    }
   },
   "outputs": [
    {
     "name": "stdout",
     "output_type": "stream",
     "text": [
      " * sqlite:///lab1.sqlite\n",
      "Done.\n"
     ]
    },
    {
     "data": {
      "text/html": [
       "<table>\n",
       "    <thead>\n",
       "        <tr>\n",
       "            <th>first_name</th>\n",
       "            <th>last_name</th>\n",
       "        </tr>\n",
       "    </thead>\n",
       "    <tbody>\n",
       "        <tr>\n",
       "            <td>Märit</td>\n",
       "            <td>Aspegren</td>\n",
       "        </tr>\n",
       "        <tr>\n",
       "            <td>Ylva</td>\n",
       "            <td>Jacobsson</td>\n",
       "        </tr>\n",
       "        <tr>\n",
       "            <td>Frida</td>\n",
       "            <td>Weidel</td>\n",
       "        </tr>\n",
       "        <tr>\n",
       "            <td>Caroline</td>\n",
       "            <td>Olsson</td>\n",
       "        </tr>\n",
       "        <tr>\n",
       "            <td>Karolin</td>\n",
       "            <td>Ek</td>\n",
       "        </tr>\n",
       "        <tr>\n",
       "            <td>Eva</td>\n",
       "            <td>Hjort</td>\n",
       "        </tr>\n",
       "        <tr>\n",
       "            <td>Sofia</td>\n",
       "            <td>Kjellberg</td>\n",
       "        </tr>\n",
       "        <tr>\n",
       "            <td>Tina</td>\n",
       "            <td>Lööf</td>\n",
       "        </tr>\n",
       "        <tr>\n",
       "            <td>Lisa</td>\n",
       "            <td>Berg</td>\n",
       "        </tr>\n",
       "        <tr>\n",
       "            <td>Lotta</td>\n",
       "            <td>Bergman</td>\n",
       "        </tr>\n",
       "    </tbody>\n",
       "</table>"
      ],
      "text/plain": [
       "[('Märit', 'Aspegren'),\n",
       " ('Ylva', 'Jacobsson'),\n",
       " ('Frida', 'Weidel'),\n",
       " ('Caroline', 'Olsson'),\n",
       " ('Karolin', 'Ek'),\n",
       " ('Eva', 'Hjort'),\n",
       " ('Sofia', 'Kjellberg'),\n",
       " ('Tina', 'Lööf'),\n",
       " ('Lisa', 'Berg'),\n",
       " ('Lotta', 'Bergman')]"
      ]
     },
     "execution_count": 13,
     "metadata": {},
     "output_type": "execute_result"
    }
   ],
   "source": [
    "%%sql\n",
    "SELECT DISTINCT first_name, last_name\n",
    "FROM students\n",
    "LIMIT 10\n",
    "OFFSET 10\n"
   ]
  },
  {
   "cell_type": "markdown",
   "id": "68960ac2",
   "metadata": {},
   "source": [
    "<a id='problem_2'></a>\n",
    "\n",
    "### Problem 2 (practice)\n",
    "\n",
    "What are the names of the students who were born in 1985?"
   ]
  },
  {
   "cell_type": "code",
   "execution_count": 30,
   "id": "4ff4d93b",
   "metadata": {
    "attributes": {
     "classes": [
      "clear"
     ],
     "id": ""
    }
   },
   "outputs": [
    {
     "name": "stdout",
     "output_type": "stream",
     "text": [
      " * sqlite:///lab1.sqlite\n",
      "Done.\n"
     ]
    },
    {
     "data": {
      "text/html": [
       "<table>\n",
       "    <thead>\n",
       "        <tr>\n",
       "            <th>first_name</th>\n",
       "            <th>last_name</th>\n",
       "        </tr>\n",
       "    </thead>\n",
       "    <tbody>\n",
       "        <tr>\n",
       "            <td>Ulrika</td>\n",
       "            <td>Jonsson</td>\n",
       "        </tr>\n",
       "        <tr>\n",
       "            <td>Bo</td>\n",
       "            <td>Ek</td>\n",
       "        </tr>\n",
       "        <tr>\n",
       "            <td>Filip</td>\n",
       "            <td>Persson</td>\n",
       "        </tr>\n",
       "        <tr>\n",
       "            <td>Henrik</td>\n",
       "            <td>Berg</td>\n",
       "        </tr>\n",
       "    </tbody>\n",
       "</table>"
      ],
      "text/plain": [
       "[('Ulrika', 'Jonsson'), ('Bo', 'Ek'), ('Filip', 'Persson'), ('Henrik', 'Berg')]"
      ]
     },
     "execution_count": 30,
     "metadata": {},
     "output_type": "execute_result"
    }
   ],
   "source": [
    "%%sql\n",
    "SELECT DISTINCT first_name, last_name\n",
    "FROM students \n",
    "WHERE substr(ssn, 1, 2) LIKE \"85%\"\n"
   ]
  },
  {
   "cell_type": "markdown",
   "id": "2e284a82",
   "metadata": {},
   "source": [
    "Hint: the `substr` function can be useful (it also goes by the name `substring`).\n",
    "\n",
    "\n",
    "<a id='problem_3'></a>\n",
    "\n",
    "### Problem 3 (practice)\n",
    "\n",
    "The penultimate digit in the social security number is even for females, and odd for males.\n",
    "List the first names of all female students in our database alphabetically."
   ]
  },
  {
   "cell_type": "code",
   "execution_count": 32,
   "id": "1ae14c3d",
   "metadata": {
    "attributes": {
     "classes": [
      "clear"
     ],
     "id": ""
    }
   },
   "outputs": [
    {
     "name": "stdout",
     "output_type": "stream",
     "text": [
      " * sqlite:///lab1.sqlite\n",
      "Done.\n"
     ]
    },
    {
     "data": {
      "text/html": [
       "<table>\n",
       "    <thead>\n",
       "        <tr>\n",
       "            <th>first_name</th>\n",
       "            <th>ssn</th>\n",
       "            <th>substr(ssn, 10, 1)</th>\n",
       "        </tr>\n",
       "    </thead>\n",
       "    <tbody>\n",
       "        <tr>\n",
       "            <td>Anna</td>\n",
       "            <td>950705-2308</td>\n",
       "            <td>0</td>\n",
       "        </tr>\n",
       "        <tr>\n",
       "            <td>Anna</td>\n",
       "            <td>930702-3582</td>\n",
       "            <td>8</td>\n",
       "        </tr>\n",
       "        <tr>\n",
       "            <td>Eva</td>\n",
       "            <td>911212-1746</td>\n",
       "            <td>4</td>\n",
       "        </tr>\n",
       "        <tr>\n",
       "            <td>Eva</td>\n",
       "            <td>910707-3787</td>\n",
       "            <td>8</td>\n",
       "        </tr>\n",
       "        <tr>\n",
       "            <td>Elaine</td>\n",
       "            <td>931213-2824</td>\n",
       "            <td>2</td>\n",
       "        </tr>\n",
       "        <tr>\n",
       "            <td>Maria</td>\n",
       "            <td>951122-1048</td>\n",
       "            <td>4</td>\n",
       "        </tr>\n",
       "        <tr>\n",
       "            <td>Helena</td>\n",
       "            <td>910308-1826</td>\n",
       "            <td>2</td>\n",
       "        </tr>\n",
       "        <tr>\n",
       "            <td>Lotta</td>\n",
       "            <td>941003-1225</td>\n",
       "            <td>2</td>\n",
       "        </tr>\n",
       "        <tr>\n",
       "            <td>Anna</td>\n",
       "            <td>950829-1848</td>\n",
       "            <td>4</td>\n",
       "        </tr>\n",
       "        <tr>\n",
       "            <td>Maria</td>\n",
       "            <td>860819-2864</td>\n",
       "            <td>6</td>\n",
       "        </tr>\n",
       "        <tr>\n",
       "            <td>Marie</td>\n",
       "            <td>870915-2742</td>\n",
       "            <td>4</td>\n",
       "        </tr>\n",
       "        <tr>\n",
       "            <td>Märit</td>\n",
       "            <td>900227-2369</td>\n",
       "            <td>6</td>\n",
       "        </tr>\n",
       "        <tr>\n",
       "            <td>Ylva</td>\n",
       "            <td>931208-3605</td>\n",
       "            <td>0</td>\n",
       "        </tr>\n",
       "        <tr>\n",
       "            <td>Frida</td>\n",
       "            <td>951004-2346</td>\n",
       "            <td>4</td>\n",
       "        </tr>\n",
       "        <tr>\n",
       "            <td>Caroline</td>\n",
       "            <td>870909-3367</td>\n",
       "            <td>6</td>\n",
       "        </tr>\n",
       "        <tr>\n",
       "            <td>Karolin</td>\n",
       "            <td>910915-2068</td>\n",
       "            <td>6</td>\n",
       "        </tr>\n",
       "        <tr>\n",
       "            <td>Eva</td>\n",
       "            <td>860206-1065</td>\n",
       "            <td>6</td>\n",
       "        </tr>\n",
       "        <tr>\n",
       "            <td>Sofia</td>\n",
       "            <td>900528-1540</td>\n",
       "            <td>4</td>\n",
       "        </tr>\n",
       "        <tr>\n",
       "            <td>Tina</td>\n",
       "            <td>930502-2040</td>\n",
       "            <td>4</td>\n",
       "        </tr>\n",
       "        <tr>\n",
       "            <td>Lisa</td>\n",
       "            <td>950317-3520</td>\n",
       "            <td>2</td>\n",
       "        </tr>\n",
       "        <tr>\n",
       "            <td>Lotta</td>\n",
       "            <td>891021-1287</td>\n",
       "            <td>8</td>\n",
       "        </tr>\n",
       "        <tr>\n",
       "            <td>Susanne</td>\n",
       "            <td>880620-2564</td>\n",
       "            <td>6</td>\n",
       "        </tr>\n",
       "        <tr>\n",
       "            <td>Birgit</td>\n",
       "            <td>940802-3861</td>\n",
       "            <td>6</td>\n",
       "        </tr>\n",
       "        <tr>\n",
       "            <td>Ulrika</td>\n",
       "            <td>850706-2762</td>\n",
       "            <td>6</td>\n",
       "        </tr>\n",
       "        <tr>\n",
       "            <td>Jenny</td>\n",
       "            <td>890622-1928</td>\n",
       "            <td>2</td>\n",
       "        </tr>\n",
       "        <tr>\n",
       "            <td>Karin</td>\n",
       "            <td>910226-3409</td>\n",
       "            <td>0</td>\n",
       "        </tr>\n",
       "    </tbody>\n",
       "</table>"
      ],
      "text/plain": [
       "[('Anna', '950705-2308', '0'),\n",
       " ('Anna', '930702-3582', '8'),\n",
       " ('Eva', '911212-1746', '4'),\n",
       " ('Eva', '910707-3787', '8'),\n",
       " ('Elaine', '931213-2824', '2'),\n",
       " ('Maria', '951122-1048', '4'),\n",
       " ('Helena', '910308-1826', '2'),\n",
       " ('Lotta', '941003-1225', '2'),\n",
       " ('Anna', '950829-1848', '4'),\n",
       " ('Maria', '860819-2864', '6'),\n",
       " ('Marie', '870915-2742', '4'),\n",
       " ('Märit', '900227-2369', '6'),\n",
       " ('Ylva', '931208-3605', '0'),\n",
       " ('Frida', '951004-2346', '4'),\n",
       " ('Caroline', '870909-3367', '6'),\n",
       " ('Karolin', '910915-2068', '6'),\n",
       " ('Eva', '860206-1065', '6'),\n",
       " ('Sofia', '900528-1540', '4'),\n",
       " ('Tina', '930502-2040', '4'),\n",
       " ('Lisa', '950317-3520', '2'),\n",
       " ('Lotta', '891021-1287', '8'),\n",
       " ('Susanne', '880620-2564', '6'),\n",
       " ('Birgit', '940802-3861', '6'),\n",
       " ('Ulrika', '850706-2762', '6'),\n",
       " ('Jenny', '890622-1928', '2'),\n",
       " ('Karin', '910226-3409', '0')]"
      ]
     },
     "execution_count": 32,
     "metadata": {},
     "output_type": "execute_result"
    }
   ],
   "source": [
    "%%sql\n",
    "SELECT DISTINCT first_name, ssn, substr(ssn, 10, 1)\n",
    "FROM students \n",
    "WHERE MOD(substr(ssn, 10, 1), 2) == 0\n",
    "\n"
   ]
  },
  {
   "cell_type": "markdown",
   "id": "ff238c70",
   "metadata": {},
   "source": [
    "Now try to output each name only once (so, no duplicates)."
   ]
  },
  {
   "cell_type": "code",
   "execution_count": 38,
   "id": "da0f592b",
   "metadata": {
    "attributes": {
     "classes": [
      "clear"
     ],
     "id": ""
    }
   },
   "outputs": [
    {
     "name": "stdout",
     "output_type": "stream",
     "text": [
      " * sqlite:///lab1.sqlite\n",
      "Done.\n"
     ]
    },
    {
     "data": {
      "text/html": [
       "<table>\n",
       "    <thead>\n",
       "        <tr>\n",
       "            <th>first_name</th>\n",
       "        </tr>\n",
       "    </thead>\n",
       "    <tbody>\n",
       "        <tr>\n",
       "            <td>Anna</td>\n",
       "        </tr>\n",
       "        <tr>\n",
       "            <td>Eva</td>\n",
       "        </tr>\n",
       "        <tr>\n",
       "            <td>Elaine</td>\n",
       "        </tr>\n",
       "        <tr>\n",
       "            <td>Maria</td>\n",
       "        </tr>\n",
       "        <tr>\n",
       "            <td>Helena</td>\n",
       "        </tr>\n",
       "        <tr>\n",
       "            <td>Lotta</td>\n",
       "        </tr>\n",
       "        <tr>\n",
       "            <td>Marie</td>\n",
       "        </tr>\n",
       "        <tr>\n",
       "            <td>Märit</td>\n",
       "        </tr>\n",
       "        <tr>\n",
       "            <td>Ylva</td>\n",
       "        </tr>\n",
       "        <tr>\n",
       "            <td>Frida</td>\n",
       "        </tr>\n",
       "        <tr>\n",
       "            <td>Caroline</td>\n",
       "        </tr>\n",
       "        <tr>\n",
       "            <td>Karolin</td>\n",
       "        </tr>\n",
       "        <tr>\n",
       "            <td>Sofia</td>\n",
       "        </tr>\n",
       "        <tr>\n",
       "            <td>Tina</td>\n",
       "        </tr>\n",
       "        <tr>\n",
       "            <td>Lisa</td>\n",
       "        </tr>\n",
       "        <tr>\n",
       "            <td>Susanne</td>\n",
       "        </tr>\n",
       "        <tr>\n",
       "            <td>Birgit</td>\n",
       "        </tr>\n",
       "        <tr>\n",
       "            <td>Ulrika</td>\n",
       "        </tr>\n",
       "        <tr>\n",
       "            <td>Jenny</td>\n",
       "        </tr>\n",
       "        <tr>\n",
       "            <td>Karin</td>\n",
       "        </tr>\n",
       "    </tbody>\n",
       "</table>"
      ],
      "text/plain": [
       "[('Anna',),\n",
       " ('Eva',),\n",
       " ('Elaine',),\n",
       " ('Maria',),\n",
       " ('Helena',),\n",
       " ('Lotta',),\n",
       " ('Marie',),\n",
       " ('Märit',),\n",
       " ('Ylva',),\n",
       " ('Frida',),\n",
       " ('Caroline',),\n",
       " ('Karolin',),\n",
       " ('Sofia',),\n",
       " ('Tina',),\n",
       " ('Lisa',),\n",
       " ('Susanne',),\n",
       " ('Birgit',),\n",
       " ('Ulrika',),\n",
       " ('Jenny',),\n",
       " ('Karin',)]"
      ]
     },
     "execution_count": 38,
     "metadata": {},
     "output_type": "execute_result"
    }
   ],
   "source": [
    "%%sql\n",
    "SELECT DISTINCT first_name\n",
    "FROM students \n",
    "WHERE MOD(substr(ssn, 10, 1), 2) == 0 "
   ]
  },
  {
   "cell_type": "markdown",
   "id": "cfbce154",
   "metadata": {},
   "source": [
    "<a id='problem_4'></a>\n",
    "\n",
    "### Problem 4 (practice)\n",
    "\n",
    "How many students are registered in the database?"
   ]
  },
  {
   "cell_type": "code",
   "execution_count": 39,
   "id": "940d758c",
   "metadata": {
    "attributes": {
     "classes": [
      "clear"
     ],
     "id": ""
    }
   },
   "outputs": [
    {
     "name": "stdout",
     "output_type": "stream",
     "text": [
      " * sqlite:///lab1.sqlite\n",
      "Done.\n"
     ]
    },
    {
     "data": {
      "text/html": [
       "<table>\n",
       "    <thead>\n",
       "        <tr>\n",
       "            <th>count()</th>\n",
       "        </tr>\n",
       "    </thead>\n",
       "    <tbody>\n",
       "        <tr>\n",
       "            <td>72</td>\n",
       "        </tr>\n",
       "    </tbody>\n",
       "</table>"
      ],
      "text/plain": [
       "[(72,)]"
      ]
     },
     "execution_count": 39,
     "metadata": {},
     "output_type": "execute_result"
    }
   ],
   "source": [
    "%%sql\n",
    "SELECT count()\n",
    "FROM students\n"
   ]
  },
  {
   "cell_type": "markdown",
   "id": "d4343686",
   "metadata": {},
   "source": [
    "How many male students are there?"
   ]
  },
  {
   "cell_type": "code",
   "execution_count": 41,
   "id": "70fda674",
   "metadata": {
    "attributes": {
     "classes": [
      "clear"
     ],
     "id": ""
    }
   },
   "outputs": [
    {
     "name": "stdout",
     "output_type": "stream",
     "text": [
      " * sqlite:///lab1.sqlite\n",
      "Done.\n"
     ]
    },
    {
     "data": {
      "text/html": [
       "<table>\n",
       "    <thead>\n",
       "        <tr>\n",
       "            <th>count()</th>\n",
       "        </tr>\n",
       "    </thead>\n",
       "    <tbody>\n",
       "        <tr>\n",
       "            <td>46</td>\n",
       "        </tr>\n",
       "    </tbody>\n",
       "</table>"
      ],
      "text/plain": [
       "[(46,)]"
      ]
     },
     "execution_count": 41,
     "metadata": {},
     "output_type": "execute_result"
    }
   ],
   "source": [
    "%%sql\n",
    "SELECT count()\n",
    "FROM students \n",
    "WHERE MOD(substr(ssn, 10, 1), 2) != 0 \n"
   ]
  },
  {
   "cell_type": "markdown",
   "id": "db257655",
   "metadata": {},
   "source": [
    "Now try to output the number of distinct names in the listing of female students above, using `count`.\n",
    "It turns out that this is a bit tricky, we need to make sure we use the word `DISTINCT` in the right place (look carefully in the [documentation](https://sqlite.org/lang_aggfunc.html))."
   ]
  },
  {
   "cell_type": "code",
   "execution_count": 50,
   "id": "02b4d1ad",
   "metadata": {
    "attributes": {
     "classes": [
      "clear"
     ],
     "id": ""
    }
   },
   "outputs": [
    {
     "name": "stdout",
     "output_type": "stream",
     "text": [
      " * sqlite:///lab1.sqlite\n",
      "Done.\n"
     ]
    },
    {
     "data": {
      "text/html": [
       "<table>\n",
       "    <thead>\n",
       "        <tr>\n",
       "            <th>count()</th>\n",
       "        </tr>\n",
       "    </thead>\n",
       "    <tbody>\n",
       "        <tr>\n",
       "            <td>20</td>\n",
       "        </tr>\n",
       "    </tbody>\n",
       "</table>"
      ],
      "text/plain": [
       "[(20,)]"
      ]
     },
     "execution_count": 50,
     "metadata": {},
     "output_type": "execute_result"
    }
   ],
   "source": [
    "%%sql\n",
    "SELECT count()\n",
    "FROM(\n",
    "    SELECT DISTINCT first_name\n",
    "    FROM students \n",
    "    WHERE MOD(substr(ssn, 10, 1), 2) == 0)\n"
   ]
  },
  {
   "cell_type": "markdown",
   "id": "9a2ac623",
   "metadata": {},
   "source": [
    "<a id='problem_6'></a>\n",
    "\n",
    "### Problem 5 (practice)\n",
    "\n",
    "In the next few queries, we'll look at the results of the student with the social security number 910101-1234 -- to make things _a lot_ easier, start by creating a `VIEW` with all his results."
   ]
  },
  {
   "cell_type": "code",
   "execution_count": 66,
   "id": "1d80a2f6",
   "metadata": {
    "attributes": {
     "classes": [
      "clear"
     ],
     "id": ""
    }
   },
   "outputs": [
    {
     "name": "stdout",
     "output_type": "stream",
     "text": [
      " * sqlite:///lab1.sqlite\n",
      "Done.\n",
      "Done.\n"
     ]
    },
    {
     "data": {
      "text/plain": [
       "[]"
      ]
     },
     "execution_count": 66,
     "metadata": {},
     "output_type": "execute_result"
    }
   ],
   "source": [
    "%%sql\n",
    "DROP VIEW IF EXISTS carl;\n",
    "CREATE VIEW carl(ssn) AS \n",
    "SELECT ssn\n",
    "FROM students\n",
    "WHERE ssn LIKE \"910101-1234\""
   ]
  },
  {
   "cell_type": "markdown",
   "id": "88a40082",
   "metadata": {},
   "source": [
    "Make sure the view contains all data pertinent to the student in question (it will make the following queries very simple).\n",
    "\n",
    "Which courses (course codes only) have been taken by the student?"
   ]
  },
  {
   "cell_type": "code",
   "execution_count": 68,
   "id": "31198e2a",
   "metadata": {
    "attributes": {
     "classes": [
      "clear"
     ],
     "id": ""
    }
   },
   "outputs": [
    {
     "name": "stdout",
     "output_type": "stream",
     "text": [
      " * sqlite:///lab1.sqlite\n",
      "(sqlite3.OperationalError) no such column: ssn\n",
      "[SQL: SELECT    course_code\n",
      "FROM      courses\n",
      "WHERE     ssn IN carl]\n",
      "(Background on this error at: https://sqlalche.me/e/20/e3q8)\n"
     ]
    }
   ],
   "source": [
    "%%sql\n",
    "SELECT    course_code\n",
    "FROM      courses\n",
    "WHERE     ssn IN carl"
   ]
  },
  {
   "cell_type": "markdown",
   "id": "e67c48b2",
   "metadata": {},
   "source": [
    "What are the names of these courses, and how many credits do they give?"
   ]
  },
  {
   "cell_type": "code",
   "execution_count": null,
   "id": "dc3fc074",
   "metadata": {
    "attributes": {
     "classes": [
      "clear"
     ],
     "id": ""
    }
   },
   "outputs": [],
   "source": [
    "%%sql\n",
    "SELECT    year, name\n",
    "FROM      nobel_prizes\n",
    "WHERE     category = 'literature'\n",
    "          AND year IN shared_literature_prize\n"
   ]
  },
  {
   "cell_type": "markdown",
   "id": "90647b7a",
   "metadata": {},
   "source": [
    "How many credits has the student taken?"
   ]
  },
  {
   "cell_type": "code",
   "execution_count": null,
   "id": "2110c88c",
   "metadata": {
    "attributes": {
     "classes": [
      "clear"
     ],
     "id": ""
    }
   },
   "outputs": [],
   "source": [
    "%%sql\n"
   ]
  },
  {
   "cell_type": "markdown",
   "id": "de5e43ac",
   "metadata": {},
   "source": [
    "What is the student’s grade average?\n",
    "It turns out that there are actually (at least) two different averages at play here:\n",
    "\n",
    "+ the unweighted average, i.e., just the average of all the students grades (no matter how many credits each course gives), and\n",
    "\n",
    "+ the [weighted average](https://en.wikipedia.org/wiki/Weighted_arithmetic_mean), where we use the credits for a course as a weight.\n",
    "\n",
    "First the unweighted average:"
   ]
  },
  {
   "cell_type": "code",
   "execution_count": null,
   "id": "23709122",
   "metadata": {
    "attributes": {
     "classes": [
      "clear"
     ],
     "id": ""
    }
   },
   "outputs": [],
   "source": [
    "%%sql\n"
   ]
  },
  {
   "cell_type": "markdown",
   "id": "26a53fdd",
   "metadata": {},
   "source": [
    "And then the weighted average (feel free to ask me about this during QA sessions, if you get stuck):"
   ]
  },
  {
   "cell_type": "code",
   "execution_count": null,
   "id": "b78da3f2",
   "metadata": {
    "attributes": {
     "classes": [
      "clear"
     ],
     "id": ""
    }
   },
   "outputs": [],
   "source": [
    "%%sql\n"
   ]
  },
  {
   "cell_type": "markdown",
   "id": "3cbb4c30",
   "metadata": {},
   "source": [
    "Hint: If you've created a proper view above, we'll get a 'table' with one row for each course the student has passed, and each row will contain information about grades and credits for the passed course.\n",
    "If we use arithmetic operations in a select statement, and then use an aggregate function around that operation, we'll apply the aggregate function to each value the operation returns (so, e.g., a `sum` over a product will be a scalar product).\n",
    "\n",
    "Now drop the view:"
   ]
  },
  {
   "cell_type": "code",
   "execution_count": null,
   "id": "2a91b8c7",
   "metadata": {
    "attributes": {
     "classes": [
      "clear"
     ],
     "id": ""
    }
   },
   "outputs": [],
   "source": [
    "%%sql\n"
   ]
  },
  {
   "cell_type": "markdown",
   "id": "ab631f29",
   "metadata": {},
   "source": [
    "<a id='review_problems'></a>\n",
    "\n",
    "## Review problems\n",
    "\n",
    "<a id='problem_6'></a>\n",
    "\n",
    "### Problem 6 -- REVIEW\n",
    "\n",
    "How many courses are there for each level (`G1`, `G2`, and `A`)?"
   ]
  },
  {
   "cell_type": "code",
   "execution_count": 7,
   "id": "38c08c64",
   "metadata": {
    "attributes": {
     "classes": [
      "clear"
     ],
     "id": ""
    }
   },
   "outputs": [
    {
     "name": "stdout",
     "output_type": "stream",
     "text": [
      " * sqlite:///lab1.sqlite\n",
      "Done.\n"
     ]
    },
    {
     "data": {
      "text/html": [
       "<table>\n",
       "    <thead>\n",
       "        <tr>\n",
       "            <th>level</th>\n",
       "            <th>count</th>\n",
       "        </tr>\n",
       "    </thead>\n",
       "    <tbody>\n",
       "        <tr>\n",
       "            <td>A</td>\n",
       "            <td>87</td>\n",
       "        </tr>\n",
       "        <tr>\n",
       "            <td>G1</td>\n",
       "            <td>31</td>\n",
       "        </tr>\n",
       "        <tr>\n",
       "            <td>G2</td>\n",
       "            <td>60</td>\n",
       "        </tr>\n",
       "    </tbody>\n",
       "</table>"
      ],
      "text/plain": [
       "[('A', 87), ('G1', 31), ('G2', 60)]"
      ]
     },
     "execution_count": 7,
     "metadata": {},
     "output_type": "execute_result"
    }
   ],
   "source": [
    "%%sql\n",
    "SELECT level, count() AS count\n",
    "FROM courses \n",
    "GROUP BY level\n"
   ]
  },
  {
   "cell_type": "markdown",
   "id": "83dca00c",
   "metadata": {},
   "source": [
    "For each level, how many courses give more than 7.5 HP -- list only those categories with more than 5 such courses?"
   ]
  },
  {
   "cell_type": "code",
   "execution_count": 9,
   "id": "c4ed774a",
   "metadata": {
    "attributes": {
     "classes": [
      "clear"
     ],
     "id": ""
    }
   },
   "outputs": [
    {
     "name": "stdout",
     "output_type": "stream",
     "text": [
      " * sqlite:///lab1.sqlite\n",
      "Done.\n"
     ]
    },
    {
     "data": {
      "text/html": [
       "<table>\n",
       "    <thead>\n",
       "        <tr>\n",
       "            <th>level</th>\n",
       "            <th>count</th>\n",
       "        </tr>\n",
       "    </thead>\n",
       "    <tbody>\n",
       "        <tr>\n",
       "            <td>G1</td>\n",
       "            <td>6</td>\n",
       "        </tr>\n",
       "        <tr>\n",
       "            <td>G2</td>\n",
       "            <td>7</td>\n",
       "        </tr>\n",
       "    </tbody>\n",
       "</table>"
      ],
      "text/plain": [
       "[('G1', 6), ('G2', 7)]"
      ]
     },
     "execution_count": 9,
     "metadata": {},
     "output_type": "execute_result"
    }
   ],
   "source": [
    "%%sql\n",
    "\n",
    "SELECT level, count() AS count\n",
    "FROM courses \n",
    "WHERE credits > 7.5 \n",
    "GROUP BY level\n",
    "HAVING count() > 5\n"
   ]
  },
  {
   "cell_type": "markdown",
   "id": "094e2768",
   "metadata": {},
   "source": [
    "<a id='problem_7'></a>\n",
    "\n",
    "### Problem 7 - REVIEW\n",
    "\n",
    "For the five departments which offers the most total credits (for its courses in this database) -- output the name of the department, and the total number of offered credits:"
   ]
  },
  {
   "cell_type": "code",
   "execution_count": 8,
   "id": "57395a7f",
   "metadata": {
    "attributes": {
     "classes": [
      "clear"
     ],
     "id": ""
    }
   },
   "outputs": [
    {
     "name": "stdout",
     "output_type": "stream",
     "text": [
      " * sqlite:///lab1.sqlite\n",
      "Done.\n"
     ]
    },
    {
     "data": {
      "text/html": [
       "<table>\n",
       "    <thead>\n",
       "        <tr>\n",
       "            <th>department_name</th>\n",
       "            <th>sum</th>\n",
       "        </tr>\n",
       "    </thead>\n",
       "    <tbody>\n",
       "        <tr>\n",
       "            <td>Elektro- och informationsteknik</td>\n",
       "            <td>332.0</td>\n",
       "        </tr>\n",
       "        <tr>\n",
       "            <td>Datavetenskap</td>\n",
       "            <td>216.0</td>\n",
       "        </tr>\n",
       "        <tr>\n",
       "            <td>Matematik</td>\n",
       "            <td>160.0</td>\n",
       "        </tr>\n",
       "        <tr>\n",
       "            <td>Språk och litteraturcentrum</td>\n",
       "            <td>106.5</td>\n",
       "        </tr>\n",
       "        <tr>\n",
       "            <td>Matematisk statistik</td>\n",
       "            <td>84.0</td>\n",
       "        </tr>\n",
       "    </tbody>\n",
       "</table>"
      ],
      "text/plain": [
       "[('Elektro- och informationsteknik', 332.0),\n",
       " ('Datavetenskap', 216.0),\n",
       " ('Matematik', 160.0),\n",
       " ('Språk och litteraturcentrum', 106.5),\n",
       " ('Matematisk statistik', 84.0)]"
      ]
     },
     "execution_count": 8,
     "metadata": {},
     "output_type": "execute_result"
    }
   ],
   "source": [
    "%%sql\n",
    "\n",
    "SELECT department_name, sum(credits) as sum\n",
    "FROM departments \n",
    "    JOIN courses USING (department_code)\n",
    "GROUP BY department_name\n",
    "ORDER BY sum DESC\n",
    "LIMIT 5\n"
   ]
  },
  {
   "cell_type": "markdown",
   "id": "4c427d13",
   "metadata": {},
   "source": [
    "<a id='problem_8'></a>\n",
    "\n",
    "### Problem 8 - REVIEW\n",
    "\n",
    "Which students (`ssn` and full name) have taken 0 credits? This problem can be solved in several ways, first do it with an outer join:"
   ]
  },
  {
   "cell_type": "code",
   "execution_count": 6,
   "id": "9e918b47-b66c-4b53-9e8c-e41f41d7bff4",
   "metadata": {},
   "outputs": [
    {
     "name": "stdout",
     "output_type": "stream",
     "text": [
      " * sqlite:///lab1.sqlite\n",
      "Done.\n"
     ]
    },
    {
     "data": {
      "text/html": [
       "<table>\n",
       "    <thead>\n",
       "        <tr>\n",
       "            <th>ssn</th>\n",
       "            <th>first_name</th>\n",
       "            <th>last_name</th>\n",
       "        </tr>\n",
       "    </thead>\n",
       "    <tbody>\n",
       "        <tr>\n",
       "            <td>950829-1848</td>\n",
       "            <td>Anna</td>\n",
       "            <td>Nyström</td>\n",
       "        </tr>\n",
       "        <tr>\n",
       "            <td>870909-3367</td>\n",
       "            <td>Caroline</td>\n",
       "            <td>Olsson</td>\n",
       "        </tr>\n",
       "        <tr>\n",
       "            <td>931225-3158</td>\n",
       "            <td>Bo</td>\n",
       "            <td>Ek</td>\n",
       "        </tr>\n",
       "        <tr>\n",
       "            <td>891220-1393</td>\n",
       "            <td>Erik</td>\n",
       "            <td>Andersson</td>\n",
       "        </tr>\n",
       "        <tr>\n",
       "            <td>900313-2257</td>\n",
       "            <td>Erik</td>\n",
       "            <td>Andersson</td>\n",
       "        </tr>\n",
       "        <tr>\n",
       "            <td>891007-3091</td>\n",
       "            <td>Johan</td>\n",
       "            <td>Lind</td>\n",
       "        </tr>\n",
       "        <tr>\n",
       "            <td>850517-2597</td>\n",
       "            <td>Filip</td>\n",
       "            <td>Persson</td>\n",
       "        </tr>\n",
       "        <tr>\n",
       "            <td>911015-3758</td>\n",
       "            <td>Jonathan</td>\n",
       "            <td>Jönsson</td>\n",
       "        </tr>\n",
       "        <tr>\n",
       "            <td>950125-1153</td>\n",
       "            <td>Magnus</td>\n",
       "            <td>Hultgren</td>\n",
       "        </tr>\n",
       "        <tr>\n",
       "            <td>880206-1915</td>\n",
       "            <td>Joakim</td>\n",
       "            <td>Hall</td>\n",
       "        </tr>\n",
       "        <tr>\n",
       "            <td>900129-3374</td>\n",
       "            <td>Henrik</td>\n",
       "            <td>Gustavsson</td>\n",
       "        </tr>\n",
       "    </tbody>\n",
       "</table>"
      ],
      "text/plain": [
       "[('950829-1848', 'Anna', 'Nyström'),\n",
       " ('870909-3367', 'Caroline', 'Olsson'),\n",
       " ('931225-3158', 'Bo', 'Ek'),\n",
       " ('891220-1393', 'Erik', 'Andersson'),\n",
       " ('900313-2257', 'Erik', 'Andersson'),\n",
       " ('891007-3091', 'Johan', 'Lind'),\n",
       " ('850517-2597', 'Filip', 'Persson'),\n",
       " ('911015-3758', 'Jonathan', 'Jönsson'),\n",
       " ('950125-1153', 'Magnus', 'Hultgren'),\n",
       " ('880206-1915', 'Joakim', 'Hall'),\n",
       " ('900129-3374', 'Henrik', 'Gustavsson')]"
      ]
     },
     "execution_count": 6,
     "metadata": {},
     "output_type": "execute_result"
    }
   ],
   "source": [
    "%%sql\n",
    "SELECT ssn, first_name, last_name\n",
    "FROM students\n",
    "     LEFT OUTER JOIN finished_courses USING (ssn)\n",
    "WHERE grade IS NULL"
   ]
  },
  {
   "cell_type": "markdown",
   "id": "e97cb4e5",
   "metadata": {},
   "source": [
    "Now do the same thing using a subquery:"
   ]
  },
  {
   "cell_type": "code",
   "execution_count": 66,
   "id": "c0555200",
   "metadata": {
    "attributes": {
     "classes": [
      "clear"
     ],
     "id": ""
    }
   },
   "outputs": [
    {
     "name": "stdout",
     "output_type": "stream",
     "text": [
      " * sqlite:///lab1.sqlite\n",
      "Done.\n"
     ]
    },
    {
     "data": {
      "text/html": [
       "<table>\n",
       "    <thead>\n",
       "        <tr>\n",
       "            <th>ssn</th>\n",
       "            <th>first_name</th>\n",
       "            <th>last_name</th>\n",
       "        </tr>\n",
       "    </thead>\n",
       "    <tbody>\n",
       "        <tr>\n",
       "            <td>950829-1848</td>\n",
       "            <td>Anna</td>\n",
       "            <td>Nyström</td>\n",
       "        </tr>\n",
       "        <tr>\n",
       "            <td>870909-3367</td>\n",
       "            <td>Caroline</td>\n",
       "            <td>Olsson</td>\n",
       "        </tr>\n",
       "        <tr>\n",
       "            <td>931225-3158</td>\n",
       "            <td>Bo</td>\n",
       "            <td>Ek</td>\n",
       "        </tr>\n",
       "        <tr>\n",
       "            <td>891220-1393</td>\n",
       "            <td>Erik</td>\n",
       "            <td>Andersson</td>\n",
       "        </tr>\n",
       "        <tr>\n",
       "            <td>900313-2257</td>\n",
       "            <td>Erik</td>\n",
       "            <td>Andersson</td>\n",
       "        </tr>\n",
       "        <tr>\n",
       "            <td>891007-3091</td>\n",
       "            <td>Johan</td>\n",
       "            <td>Lind</td>\n",
       "        </tr>\n",
       "        <tr>\n",
       "            <td>850517-2597</td>\n",
       "            <td>Filip</td>\n",
       "            <td>Persson</td>\n",
       "        </tr>\n",
       "        <tr>\n",
       "            <td>911015-3758</td>\n",
       "            <td>Jonathan</td>\n",
       "            <td>Jönsson</td>\n",
       "        </tr>\n",
       "        <tr>\n",
       "            <td>950125-1153</td>\n",
       "            <td>Magnus</td>\n",
       "            <td>Hultgren</td>\n",
       "        </tr>\n",
       "        <tr>\n",
       "            <td>880206-1915</td>\n",
       "            <td>Joakim</td>\n",
       "            <td>Hall</td>\n",
       "        </tr>\n",
       "        <tr>\n",
       "            <td>900129-3374</td>\n",
       "            <td>Henrik</td>\n",
       "            <td>Gustavsson</td>\n",
       "        </tr>\n",
       "    </tbody>\n",
       "</table>"
      ],
      "text/plain": [
       "[('950829-1848', 'Anna', 'Nyström'),\n",
       " ('870909-3367', 'Caroline', 'Olsson'),\n",
       " ('931225-3158', 'Bo', 'Ek'),\n",
       " ('891220-1393', 'Erik', 'Andersson'),\n",
       " ('900313-2257', 'Erik', 'Andersson'),\n",
       " ('891007-3091', 'Johan', 'Lind'),\n",
       " ('850517-2597', 'Filip', 'Persson'),\n",
       " ('911015-3758', 'Jonathan', 'Jönsson'),\n",
       " ('950125-1153', 'Magnus', 'Hultgren'),\n",
       " ('880206-1915', 'Joakim', 'Hall'),\n",
       " ('900129-3374', 'Henrik', 'Gustavsson')]"
      ]
     },
     "execution_count": 66,
     "metadata": {},
     "output_type": "execute_result"
    }
   ],
   "source": [
    "%%sql\n",
    "SELECT ssn, first_name, last_name\n",
    "FROM students\n",
    "WHERE ssn NOT IN(\n",
    "    SELECT ssn\n",
    "    FROM finished_courses\n",
    ")\n"
   ]
  },
  {
   "cell_type": "markdown",
   "id": "9c360c18",
   "metadata": {},
   "source": [
    "<a id='problem_9'></a>\n",
    "\n",
    "### Problem 9 - REVIEW\n",
    "\n",
    "List the names and average grades of the 10 students with the highest grade average? You can use the unweighted average."
   ]
  },
  {
   "cell_type": "code",
   "execution_count": 72,
   "id": "7f4b80fc",
   "metadata": {
    "attributes": {
     "classes": [
      "clear"
     ],
     "id": ""
    }
   },
   "outputs": [
    {
     "name": "stdout",
     "output_type": "stream",
     "text": [
      " * sqlite:///lab1.sqlite\n",
      "Done.\n"
     ]
    },
    {
     "data": {
      "text/html": [
       "<table>\n",
       "    <thead>\n",
       "        <tr>\n",
       "            <th>ssn</th>\n",
       "            <th>first_name</th>\n",
       "            <th>last_name</th>\n",
       "            <th>average</th>\n",
       "        </tr>\n",
       "    </thead>\n",
       "    <tbody>\n",
       "        <tr>\n",
       "            <td>861103-2438</td>\n",
       "            <td>Bo</td>\n",
       "            <td>Ek</td>\n",
       "            <td>4.35</td>\n",
       "        </tr>\n",
       "        <tr>\n",
       "            <td>910308-1826</td>\n",
       "            <td>Helena</td>\n",
       "            <td>Troberg</td>\n",
       "            <td>4.3076923076923075</td>\n",
       "        </tr>\n",
       "        <tr>\n",
       "            <td>931213-2824</td>\n",
       "            <td>Elaine</td>\n",
       "            <td>Robertson</td>\n",
       "            <td>4.235294117647059</td>\n",
       "        </tr>\n",
       "        <tr>\n",
       "            <td>930702-3582</td>\n",
       "            <td>Anna</td>\n",
       "            <td>Johansson</td>\n",
       "            <td>4.230769230769231</td>\n",
       "        </tr>\n",
       "        <tr>\n",
       "            <td>931208-3605</td>\n",
       "            <td>Ylva</td>\n",
       "            <td>Jacobsson</td>\n",
       "            <td>4.21875</td>\n",
       "        </tr>\n",
       "        <tr>\n",
       "            <td>950705-2308</td>\n",
       "            <td>Anna</td>\n",
       "            <td>Johansson</td>\n",
       "            <td>4.2</td>\n",
       "        </tr>\n",
       "        <tr>\n",
       "            <td>940801-2971</td>\n",
       "            <td>Mikael</td>\n",
       "            <td>Nilsson</td>\n",
       "            <td>4.173913043478261</td>\n",
       "        </tr>\n",
       "        <tr>\n",
       "            <td>920812-1857</td>\n",
       "            <td>Jakob</td>\n",
       "            <td>Malmberg</td>\n",
       "            <td>4.166666666666667</td>\n",
       "        </tr>\n",
       "        <tr>\n",
       "            <td>860819-2864</td>\n",
       "            <td>Maria</td>\n",
       "            <td>Andersson</td>\n",
       "            <td>4.157894736842105</td>\n",
       "        </tr>\n",
       "        <tr>\n",
       "            <td>901030-1895</td>\n",
       "            <td>Per-Erik</td>\n",
       "            <td>Pettersson</td>\n",
       "            <td>4.153846153846154</td>\n",
       "        </tr>\n",
       "    </tbody>\n",
       "</table>"
      ],
      "text/plain": [
       "[('861103-2438', 'Bo', 'Ek', 4.35),\n",
       " ('910308-1826', 'Helena', 'Troberg', 4.3076923076923075),\n",
       " ('931213-2824', 'Elaine', 'Robertson', 4.235294117647059),\n",
       " ('930702-3582', 'Anna', 'Johansson', 4.230769230769231),\n",
       " ('931208-3605', 'Ylva', 'Jacobsson', 4.21875),\n",
       " ('950705-2308', 'Anna', 'Johansson', 4.2),\n",
       " ('940801-2971', 'Mikael', 'Nilsson', 4.173913043478261),\n",
       " ('920812-1857', 'Jakob', 'Malmberg', 4.166666666666667),\n",
       " ('860819-2864', 'Maria', 'Andersson', 4.157894736842105),\n",
       " ('901030-1895', 'Per-Erik', 'Pettersson', 4.153846153846154)]"
      ]
     },
     "execution_count": 72,
     "metadata": {},
     "output_type": "execute_result"
    }
   ],
   "source": [
    "%%sql\n",
    "SELECT ssn, first_name, last_name, avg(grade) AS average\n",
    "FROM students\n",
    "    JOIN finished_courses USING (ssn)\n",
    "GROUP BY ssn\n",
    "ORDER BY average DESC\n",
    "LIMIT 10"
   ]
  },
  {
   "cell_type": "markdown",
   "id": "efec1c89",
   "metadata": {},
   "source": [
    "<a id='problem_10'></a>\n",
    "\n",
    "### Problem 10 - REVIEW\n",
    "\n",
    "List the social security number and total number of credits for all students -- order by total credits, descending. Students with no credits should be included in the listing, with 0 credits (not `NULL`).\n",
    "\n",
    "Use an outer `JOIN` to solve the problem -- you might want to use the function `coalesce(v1, v2, ...)`; it returns the first value which is not `NULL`, so `coalesce(avg(grade), 0)` would give 0 if the were no grades (i.e., if `grade` were `NULL`), you can also try the `ifnull` function."
   ]
  },
  {
   "cell_type": "code",
   "execution_count": 79,
   "id": "e6cc9167",
   "metadata": {
    "attributes": {
     "classes": [
      "clear"
     ],
     "id": ""
    }
   },
   "outputs": [
    {
     "name": "stdout",
     "output_type": "stream",
     "text": [
      " * sqlite:///lab1.sqlite\n",
      "Done.\n"
     ]
    },
    {
     "data": {
      "text/html": [
       "<table>\n",
       "    <thead>\n",
       "        <tr>\n",
       "            <th>ssn</th>\n",
       "            <th>creditsum</th>\n",
       "        </tr>\n",
       "    </thead>\n",
       "    <tbody>\n",
       "        <tr>\n",
       "            <td>951004-2346</td>\n",
       "            <td>350.0</td>\n",
       "        </tr>\n",
       "        <tr>\n",
       "            <td>880620-2564</td>\n",
       "            <td>348.5</td>\n",
       "        </tr>\n",
       "        <tr>\n",
       "            <td>910915-2068</td>\n",
       "            <td>338.0</td>\n",
       "        </tr>\n",
       "        <tr>\n",
       "            <td>920623-3258</td>\n",
       "            <td>334.0</td>\n",
       "        </tr>\n",
       "        <tr>\n",
       "            <td>921222-2113</td>\n",
       "            <td>332.0</td>\n",
       "        </tr>\n",
       "        <tr>\n",
       "            <td>890621-3057</td>\n",
       "            <td>295.5</td>\n",
       "        </tr>\n",
       "        <tr>\n",
       "            <td>920308-3854</td>\n",
       "            <td>289.0</td>\n",
       "        </tr>\n",
       "        <tr>\n",
       "            <td>930702-3582</td>\n",
       "            <td>288.5</td>\n",
       "        </tr>\n",
       "        <tr>\n",
       "            <td>921029-1995</td>\n",
       "            <td>268.5</td>\n",
       "        </tr>\n",
       "        <tr>\n",
       "            <td>920921-2499</td>\n",
       "            <td>267.5</td>\n",
       "        </tr>\n",
       "        <tr>\n",
       "            <td>891021-1287</td>\n",
       "            <td>267.0</td>\n",
       "        </tr>\n",
       "        <tr>\n",
       "            <td>900227-2369</td>\n",
       "            <td>262.5</td>\n",
       "        </tr>\n",
       "        <tr>\n",
       "            <td>870915-2742</td>\n",
       "            <td>254.0</td>\n",
       "        </tr>\n",
       "        <tr>\n",
       "            <td>880322-3951</td>\n",
       "            <td>250.5</td>\n",
       "        </tr>\n",
       "        <tr>\n",
       "            <td>910101-1234</td>\n",
       "            <td>249.5</td>\n",
       "        </tr>\n",
       "        <tr>\n",
       "            <td>911020-3538</td>\n",
       "            <td>241.5</td>\n",
       "        </tr>\n",
       "        <tr>\n",
       "            <td>931208-3605</td>\n",
       "            <td>229.5</td>\n",
       "        </tr>\n",
       "        <tr>\n",
       "            <td>940318-2373</td>\n",
       "            <td>223.0</td>\n",
       "        </tr>\n",
       "        <tr>\n",
       "            <td>900918-3999</td>\n",
       "            <td>216.0</td>\n",
       "        </tr>\n",
       "        <tr>\n",
       "            <td>890622-1928</td>\n",
       "            <td>205.0</td>\n",
       "        </tr>\n",
       "        <tr>\n",
       "            <td>901030-1895</td>\n",
       "            <td>192.0</td>\n",
       "        </tr>\n",
       "        <tr>\n",
       "            <td>930502-2040</td>\n",
       "            <td>189.0</td>\n",
       "        </tr>\n",
       "        <tr>\n",
       "            <td>911212-1746</td>\n",
       "            <td>181.0</td>\n",
       "        </tr>\n",
       "        <tr>\n",
       "            <td>920906-3371</td>\n",
       "            <td>174.0</td>\n",
       "        </tr>\n",
       "        <tr>\n",
       "            <td>950830-2637</td>\n",
       "            <td>174.0</td>\n",
       "        </tr>\n",
       "        <tr>\n",
       "            <td>931128-1333</td>\n",
       "            <td>171.5</td>\n",
       "        </tr>\n",
       "        <tr>\n",
       "            <td>890820-2496</td>\n",
       "            <td>170.0</td>\n",
       "        </tr>\n",
       "        <tr>\n",
       "            <td>850208-1213</td>\n",
       "            <td>166.5</td>\n",
       "        </tr>\n",
       "        <tr>\n",
       "            <td>940801-2971</td>\n",
       "            <td>161.5</td>\n",
       "        </tr>\n",
       "        <tr>\n",
       "            <td>881110-1272</td>\n",
       "            <td>154.5</td>\n",
       "        </tr>\n",
       "        <tr>\n",
       "            <td>861103-2438</td>\n",
       "            <td>153.0</td>\n",
       "        </tr>\n",
       "        <tr>\n",
       "            <td>860206-1065</td>\n",
       "            <td>151.0</td>\n",
       "        </tr>\n",
       "        <tr>\n",
       "            <td>930804-3050</td>\n",
       "            <td>148.0</td>\n",
       "        </tr>\n",
       "        <tr>\n",
       "            <td>860819-2864</td>\n",
       "            <td>140.5</td>\n",
       "        </tr>\n",
       "        <tr>\n",
       "            <td>900206-3735</td>\n",
       "            <td>139.0</td>\n",
       "        </tr>\n",
       "        <tr>\n",
       "            <td>881030-2772</td>\n",
       "            <td>133.0</td>\n",
       "        </tr>\n",
       "        <tr>\n",
       "            <td>940802-3861</td>\n",
       "            <td>123.0</td>\n",
       "        </tr>\n",
       "        <tr>\n",
       "            <td>940825-1934</td>\n",
       "            <td>117.5</td>\n",
       "        </tr>\n",
       "        <tr>\n",
       "            <td>931213-2824</td>\n",
       "            <td>111.0</td>\n",
       "        </tr>\n",
       "        <tr>\n",
       "            <td>951122-1048</td>\n",
       "            <td>110.0</td>\n",
       "        </tr>\n",
       "        <tr>\n",
       "            <td>910308-1826</td>\n",
       "            <td>83.0</td>\n",
       "        </tr>\n",
       "        <tr>\n",
       "            <td>850819-2139</td>\n",
       "            <td>76.5</td>\n",
       "        </tr>\n",
       "        <tr>\n",
       "            <td>891231-2554</td>\n",
       "            <td>76.0</td>\n",
       "        </tr>\n",
       "        <tr>\n",
       "            <td>860323-1071</td>\n",
       "            <td>70.5</td>\n",
       "        </tr>\n",
       "        <tr>\n",
       "            <td>900528-1540</td>\n",
       "            <td>64.5</td>\n",
       "        </tr>\n",
       "        <tr>\n",
       "            <td>910226-3409</td>\n",
       "            <td>63.0</td>\n",
       "        </tr>\n",
       "        <tr>\n",
       "            <td>891106-1277</td>\n",
       "            <td>60.5</td>\n",
       "        </tr>\n",
       "        <tr>\n",
       "            <td>930716-3933</td>\n",
       "            <td>60.0</td>\n",
       "        </tr>\n",
       "        <tr>\n",
       "            <td>890103-1256</td>\n",
       "            <td>52.5</td>\n",
       "        </tr>\n",
       "        <tr>\n",
       "            <td>941003-1225</td>\n",
       "            <td>52.5</td>\n",
       "        </tr>\n",
       "        <tr>\n",
       "            <td>950317-3520</td>\n",
       "            <td>43.5</td>\n",
       "        </tr>\n",
       "        <tr>\n",
       "            <td>950705-2308</td>\n",
       "            <td>37.5</td>\n",
       "        </tr>\n",
       "        <tr>\n",
       "            <td>920812-1857</td>\n",
       "            <td>37.0</td>\n",
       "        </tr>\n",
       "        <tr>\n",
       "            <td>950714-2190</td>\n",
       "            <td>32.5</td>\n",
       "        </tr>\n",
       "        <tr>\n",
       "            <td>900526-1450</td>\n",
       "            <td>31.0</td>\n",
       "        </tr>\n",
       "        <tr>\n",
       "            <td>850706-2762</td>\n",
       "            <td>30.0</td>\n",
       "        </tr>\n",
       "        <tr>\n",
       "            <td>910707-3787</td>\n",
       "            <td>28.5</td>\n",
       "        </tr>\n",
       "        <tr>\n",
       "            <td>931015-1271</td>\n",
       "            <td>22.5</td>\n",
       "        </tr>\n",
       "        <tr>\n",
       "            <td>920514-3433</td>\n",
       "            <td>22.0</td>\n",
       "        </tr>\n",
       "        <tr>\n",
       "            <td>950715-2090</td>\n",
       "            <td>7.5</td>\n",
       "        </tr>\n",
       "        <tr>\n",
       "            <td>930420-2833</td>\n",
       "            <td>4.0</td>\n",
       "        </tr>\n",
       "        <tr>\n",
       "            <td>850517-2597</td>\n",
       "            <td>0</td>\n",
       "        </tr>\n",
       "        <tr>\n",
       "            <td>870909-3367</td>\n",
       "            <td>0</td>\n",
       "        </tr>\n",
       "        <tr>\n",
       "            <td>880206-1915</td>\n",
       "            <td>0</td>\n",
       "        </tr>\n",
       "        <tr>\n",
       "            <td>891007-3091</td>\n",
       "            <td>0</td>\n",
       "        </tr>\n",
       "        <tr>\n",
       "            <td>891220-1393</td>\n",
       "            <td>0</td>\n",
       "        </tr>\n",
       "        <tr>\n",
       "            <td>900129-3374</td>\n",
       "            <td>0</td>\n",
       "        </tr>\n",
       "        <tr>\n",
       "            <td>900313-2257</td>\n",
       "            <td>0</td>\n",
       "        </tr>\n",
       "        <tr>\n",
       "            <td>911015-3758</td>\n",
       "            <td>0</td>\n",
       "        </tr>\n",
       "        <tr>\n",
       "            <td>931225-3158</td>\n",
       "            <td>0</td>\n",
       "        </tr>\n",
       "        <tr>\n",
       "            <td>950125-1153</td>\n",
       "            <td>0</td>\n",
       "        </tr>\n",
       "        <tr>\n",
       "            <td>950829-1848</td>\n",
       "            <td>0</td>\n",
       "        </tr>\n",
       "    </tbody>\n",
       "</table>"
      ],
      "text/plain": [
       "[('951004-2346', 350.0),\n",
       " ('880620-2564', 348.5),\n",
       " ('910915-2068', 338.0),\n",
       " ('920623-3258', 334.0),\n",
       " ('921222-2113', 332.0),\n",
       " ('890621-3057', 295.5),\n",
       " ('920308-3854', 289.0),\n",
       " ('930702-3582', 288.5),\n",
       " ('921029-1995', 268.5),\n",
       " ('920921-2499', 267.5),\n",
       " ('891021-1287', 267.0),\n",
       " ('900227-2369', 262.5),\n",
       " ('870915-2742', 254.0),\n",
       " ('880322-3951', 250.5),\n",
       " ('910101-1234', 249.5),\n",
       " ('911020-3538', 241.5),\n",
       " ('931208-3605', 229.5),\n",
       " ('940318-2373', 223.0),\n",
       " ('900918-3999', 216.0),\n",
       " ('890622-1928', 205.0),\n",
       " ('901030-1895', 192.0),\n",
       " ('930502-2040', 189.0),\n",
       " ('911212-1746', 181.0),\n",
       " ('920906-3371', 174.0),\n",
       " ('950830-2637', 174.0),\n",
       " ('931128-1333', 171.5),\n",
       " ('890820-2496', 170.0),\n",
       " ('850208-1213', 166.5),\n",
       " ('940801-2971', 161.5),\n",
       " ('881110-1272', 154.5),\n",
       " ('861103-2438', 153.0),\n",
       " ('860206-1065', 151.0),\n",
       " ('930804-3050', 148.0),\n",
       " ('860819-2864', 140.5),\n",
       " ('900206-3735', 139.0),\n",
       " ('881030-2772', 133.0),\n",
       " ('940802-3861', 123.0),\n",
       " ('940825-1934', 117.5),\n",
       " ('931213-2824', 111.0),\n",
       " ('951122-1048', 110.0),\n",
       " ('910308-1826', 83.0),\n",
       " ('850819-2139', 76.5),\n",
       " ('891231-2554', 76.0),\n",
       " ('860323-1071', 70.5),\n",
       " ('900528-1540', 64.5),\n",
       " ('910226-3409', 63.0),\n",
       " ('891106-1277', 60.5),\n",
       " ('930716-3933', 60.0),\n",
       " ('890103-1256', 52.5),\n",
       " ('941003-1225', 52.5),\n",
       " ('950317-3520', 43.5),\n",
       " ('950705-2308', 37.5),\n",
       " ('920812-1857', 37.0),\n",
       " ('950714-2190', 32.5),\n",
       " ('900526-1450', 31.0),\n",
       " ('850706-2762', 30.0),\n",
       " ('910707-3787', 28.5),\n",
       " ('931015-1271', 22.5),\n",
       " ('920514-3433', 22.0),\n",
       " ('950715-2090', 7.5),\n",
       " ('930420-2833', 4.0),\n",
       " ('850517-2597', 0),\n",
       " ('870909-3367', 0),\n",
       " ('880206-1915', 0),\n",
       " ('891007-3091', 0),\n",
       " ('891220-1393', 0),\n",
       " ('900129-3374', 0),\n",
       " ('900313-2257', 0),\n",
       " ('911015-3758', 0),\n",
       " ('931225-3158', 0),\n",
       " ('950125-1153', 0),\n",
       " ('950829-1848', 0)]"
      ]
     },
     "execution_count": 79,
     "metadata": {},
     "output_type": "execute_result"
    }
   ],
   "source": [
    "%%sql\n",
    "SELECT ssn, sum(coalesce(credits, 0)) as  creditsum \n",
    "FROM students\n",
    "    LEFT JOIN finished_courses USING (ssn)\n",
    "    LEFT JOIN courses USING (course_code)\n",
    "GROUP BY ssn\n",
    "ORDER BY creditsum DESC\n"
   ]
  },
  {
   "cell_type": "code",
   "execution_count": null,
   "id": "ce9ed0ed-a829-4f28-a63b-932b8185d314",
   "metadata": {},
   "outputs": [],
   "source": []
  },
  {
   "cell_type": "markdown",
   "id": "64926d6c",
   "metadata": {},
   "source": [
    "<a id='problem_11'></a>\n",
    "\n",
    "### Problem 11 - REVIEW\n",
    "\n",
    "Do all students have unique names (first name _and_ last name)? If not, show the full name and social security number for all students who have a namesake.\n",
    "\n",
    "As usual there are several ways of solving this, solve it using a `WITH`-statement where you create a 'table' with all duplicate names, and then:\n",
    "\n",
    "Use a `JOIN`:"
   ]
  },
  {
   "cell_type": "code",
   "execution_count": 115,
   "id": "d8f3ac9e",
   "metadata": {
    "attributes": {
     "classes": [
      "clear"
     ],
     "id": ""
    }
   },
   "outputs": [
    {
     "name": "stdout",
     "output_type": "stream",
     "text": [
      " * sqlite:///lab1.sqlite\n",
      "Done.\n"
     ]
    },
    {
     "data": {
      "text/html": [
       "<table>\n",
       "    <thead>\n",
       "        <tr>\n",
       "            <th>ssn</th>\n",
       "            <th>first_name</th>\n",
       "            <th>last_name</th>\n",
       "        </tr>\n",
       "    </thead>\n",
       "    <tbody>\n",
       "        <tr>\n",
       "            <td>950705-2308</td>\n",
       "            <td>Anna</td>\n",
       "            <td>Johansson</td>\n",
       "        </tr>\n",
       "        <tr>\n",
       "            <td>861103-2438</td>\n",
       "            <td>Bo</td>\n",
       "            <td>Ek</td>\n",
       "        </tr>\n",
       "        <tr>\n",
       "            <td>891220-1393</td>\n",
       "            <td>Erik</td>\n",
       "            <td>Andersson</td>\n",
       "        </tr>\n",
       "    </tbody>\n",
       "</table>"
      ],
      "text/plain": [
       "[('950705-2308', 'Anna', 'Johansson'),\n",
       " ('861103-2438', 'Bo', 'Ek'),\n",
       " ('891220-1393', 'Erik', 'Andersson')]"
      ]
     },
     "execution_count": 115,
     "metadata": {},
     "output_type": "execute_result"
    }
   ],
   "source": [
    "%%sql\n",
    "WITH duplicates AS(\n",
    "    SELECT (first_name || ' ' || last_name) as name, count() as count\n",
    "    FROM students\n",
    "    GROUP BY name\n",
    "    HAVING count > 1\n",
    ")\n",
    "\n",
    "SELECT ssn,  (first_name || ' '|| last_name)\n",
    "FROM duplicates\n",
    "    JOIN students USING (ssn)\n",
    "\n"
   ]
  },
  {
   "cell_type": "code",
   "execution_count": 120,
   "id": "b42e9270-0e83-45db-8170-cf1e835ed740",
   "metadata": {},
   "outputs": [
    {
     "name": "stdout",
     "output_type": "stream",
     "text": [
      " * sqlite:///lab1.sqlite\n",
      "Done.\n"
     ]
    },
    {
     "data": {
      "text/html": [
       "<table>\n",
       "    <thead>\n",
       "        <tr>\n",
       "            <th>ssn</th>\n",
       "            <th>first_name</th>\n",
       "            <th>last_name</th>\n",
       "        </tr>\n",
       "    </thead>\n",
       "    <tbody>\n",
       "        <tr>\n",
       "            <td>950705-2308</td>\n",
       "            <td>Anna</td>\n",
       "            <td>Johansson</td>\n",
       "        </tr>\n",
       "        <tr>\n",
       "            <td>930702-3582</td>\n",
       "            <td>Anna</td>\n",
       "            <td>Johansson</td>\n",
       "        </tr>\n",
       "        <tr>\n",
       "            <td>861103-2438</td>\n",
       "            <td>Bo</td>\n",
       "            <td>Ek</td>\n",
       "        </tr>\n",
       "        <tr>\n",
       "            <td>931225-3158</td>\n",
       "            <td>Bo</td>\n",
       "            <td>Ek</td>\n",
       "        </tr>\n",
       "        <tr>\n",
       "            <td>850819-2139</td>\n",
       "            <td>Bo</td>\n",
       "            <td>Ek</td>\n",
       "        </tr>\n",
       "        <tr>\n",
       "            <td>891220-1393</td>\n",
       "            <td>Erik</td>\n",
       "            <td>Andersson</td>\n",
       "        </tr>\n",
       "        <tr>\n",
       "            <td>900313-2257</td>\n",
       "            <td>Erik</td>\n",
       "            <td>Andersson</td>\n",
       "        </tr>\n",
       "    </tbody>\n",
       "</table>"
      ],
      "text/plain": [
       "[('950705-2308', 'Anna', 'Johansson'),\n",
       " ('930702-3582', 'Anna', 'Johansson'),\n",
       " ('861103-2438', 'Bo', 'Ek'),\n",
       " ('931225-3158', 'Bo', 'Ek'),\n",
       " ('850819-2139', 'Bo', 'Ek'),\n",
       " ('891220-1393', 'Erik', 'Andersson'),\n",
       " ('900313-2257', 'Erik', 'Andersson')]"
      ]
     },
     "execution_count": 120,
     "metadata": {},
     "output_type": "execute_result"
    }
   ],
   "source": [
    "%%sql\n",
    "WITH duplicates AS(\n",
    "    SELECT first_name, last_name, count() as count\n",
    "    FROM students\n",
    "    GROUP BY first_name, last_name\n",
    "    HAVING count > 1\n",
    ")\n",
    "SELECT ssn, first_name, last_name\n",
    "FROM duplicates\n",
    "    JOIN students USING(first_name,  last_name)"
   ]
  },
  {
   "cell_type": "markdown",
   "id": "ba205c70",
   "metadata": {},
   "source": [
    "Use a subquery:"
   ]
  },
  {
   "cell_type": "code",
   "execution_count": 4,
   "id": "9b2f8441",
   "metadata": {
    "attributes": {
     "classes": [
      "clear"
     ],
     "id": ""
    }
   },
   "outputs": [
    {
     "name": "stdout",
     "output_type": "stream",
     "text": [
      " * sqlite:///lab1.sqlite\n",
      "(sqlite3.OperationalError) sub-select returns 3 columns - expected 1\n",
      "[SQL: SELECT ssn, first_name, last_name\n",
      "FROM students\n",
      "WHERE first_name IN (\n",
      "    SELECT first_name, last_name, count() as count\n",
      "    FROM students\n",
      "    GROUP by first_name, last_name\n",
      "    HAVING count > 1\n",
      ")]\n",
      "(Background on this error at: https://sqlalche.me/e/20/e3q8)\n"
     ]
    }
   ],
   "source": [
    "%%sql\n",
    "SELECT ssn, first_name, last_name\n",
    "FROM students\n",
    "WHERE first_name IN (\n",
    "    SELECT first_name, last_name, count() as count\n",
    "    FROM students\n",
    "    GROUP by first_name, last_name\n",
    "    HAVING count > 1\n",
    ")\n"
   ]
  },
  {
   "cell_type": "code",
   "execution_count": null,
   "id": "09a57747-2f7e-43fa-8ba7-24d00a35b962",
   "metadata": {},
   "outputs": [],
   "source": []
  }
 ],
 "metadata": {
  "kernelspec": {
   "display_name": "Python 3 (ipykernel)",
   "language": "python",
   "name": "python3"
  },
  "language_info": {
   "codemirror_mode": {
    "name": "ipython",
    "version": 3
   },
   "file_extension": ".py",
   "mimetype": "text/x-python",
   "name": "python",
   "nbconvert_exporter": "python",
   "pygments_lexer": "ipython3",
   "version": "3.11.7"
  }
 },
 "nbformat": 4,
 "nbformat_minor": 5
}
